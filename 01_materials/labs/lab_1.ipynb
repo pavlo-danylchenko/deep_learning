{
 "cells": [
  {
   "cell_type": "markdown",
   "metadata": {},
   "source": [
    "# Training Neural Networks with Keras\n",
    "\n",
    "Welcome to the first practical session of the course! In this session, we will learn how to train neural networks with Keras. We will start with a simple example of a feedforward neural network for classification and then we will study the impact of the initialization of the weights on the convergence of the training algorithm.\n",
    "\n",
    "Keras is a high-level neural network API, built on top of TensorFlow 2.0. It provides a user-friendly interface to build, train and deploy deep learning models. Keras is designed to be modular, fast and easy to use.\n",
    "\n",
    "Throughout this course, we will focus on using Keras and TensorFlow for building and training neural networks. However, there are other popular deep learning frameworks such as PyTorch, MXNet, CNTK, etc. that you can also use to build and train neural networks.\n",
    "\n",
    "In order to use our code on Google Colab, we will need to ensure that any required packages are installed. We will use the following packages in this session:\n",
    "\n",
    "- `tensorflow`: an open-source library for numerical computation and large-scale machine learning.\n",
    "- `matplotlib`: a plotting library for the Python programming language and its numerical mathematics extension NumPy.\n",
    "- `numpy`: a library for scientific computing in Python.\n",
    "- `scikit-learn`: a machine learning library for the Python programming language.\n",
    "- `pandas`: a library providing high-performance, easy-to-use data structures and data analysis tools for the Python programming language.\n",
    "\n",
    "The following cell will check if the packages are installed, and if not, it will install them. Students familiar with how pip works might note that it already checks this before installing! The reason for this code (which will also appear in subsequent notebooks) is to speed up execution if you re-run the entire notebook - it will skip the installation step if the packages are already installed."
   ]
  },
  {
   "cell_type": "markdown",
   "metadata": {
    "collapsed": false
   },
   "source": [
    "With the packages installed, we can now get started on the practical session!\n",
    "\n",
    "Today, we will be working with the famous MNIST dataset. MNIST (Modified National Institute of Standards and Technology) is a database of low resolution images of handwritten digits. The history here is interesting - the dataset was originally created in the 1980s, when researchers from the aforementioned institute collected samples from American Census Bureau employees and high school students. The dataset was then modified in the 1990s (hence the M in MNIST), and has since become a popular benchmark for machine learning algorithms. \n",
    "\n",
    "The dataset contains images, each of which is a 28x28 grayscale image of a handwritten digit. The goal is to classify each image into one of the 10 possible classes (0-9).\n",
    "\n",
    "![MNIST](https://upload.wikimedia.org/wikipedia/commons/2/27/MnistExamples.png)\n",
    "\n",
    "The Scikit-Learn library provides a convenient function to download and load the MNIST dataset. The following cell will download the dataset. Then we will take a look at the shape of the data."
   ]
  },
  {
   "cell_type": "code",
   "execution_count": 1,
   "metadata": {},
   "outputs": [],
   "source": [
    "import matplotlib.pyplot as plt\n",
    "import numpy as np\n",
    "\n",
    "from sklearn.datasets import load_digits\n",
    "\n",
    "digits = load_digits()"
   ]
  },
  {
   "cell_type": "code",
   "execution_count": 2,
   "metadata": {},
   "outputs": [
    {
     "data": {
      "text/plain": [
       "(1797, 8, 8)"
      ]
     },
     "execution_count": 2,
     "metadata": {},
     "output_type": "execute_result"
    }
   ],
   "source": [
    "digits.images.shape"
   ]
  },
  {
   "cell_type": "markdown",
   "metadata": {
    "collapsed": false
   },
   "source": [
    "This means that we have 1797 images, each of which is a 8x8 image. For basic image processing, we will need to flatten the images into a 1D array. In this case, Scikit-Learn has already provided the data in this format too:"
   ]
  },
  {
   "cell_type": "code",
   "execution_count": 3,
   "metadata": {},
   "outputs": [
    {
     "data": {
      "text/plain": [
       "(1797, 64)"
      ]
     },
     "execution_count": 3,
     "metadata": {},
     "output_type": "execute_result"
    }
   ],
   "source": [
    "digits.data.shape"
   ]
  },
  {
   "cell_type": "markdown",
   "metadata": {
    "collapsed": false
   },
   "source": [
    "For each image, we also have the corresponding label (or target, or class) in `digits.target`:"
   ]
  },
  {
   "cell_type": "code",
   "execution_count": 4,
   "metadata": {},
   "outputs": [
    {
     "data": {
      "text/plain": [
       "(1797,)"
      ]
     },
     "execution_count": 4,
     "metadata": {},
     "output_type": "execute_result"
    }
   ],
   "source": [
    "digits.target.shape"
   ]
  },
  {
   "cell_type": "markdown",
   "metadata": {
    "collapsed": false
   },
   "source": [
    "We can take a look at some random images from the dataset. The following cell will select 9 random images and plot them in a 3x3 grid (meaning that you can rerun the cell to see different images)."
   ]
  },
  {
   "cell_type": "code",
   "execution_count": 5,
   "metadata": {},
   "outputs": [
    {
     "data": {
      "image/png": "[encoded data removed]",
      "text/plain": [
       "<Figure size 600x600 with 9 Axes>"
      ]
     },
     "metadata": {},
     "output_type": "display_data"
    }
   ],
   "source": [
    "# Selecting 9 random indices\n",
    "random_indices = np.random.choice(len(digits.images), 9, replace=False)\n",
    "\n",
    "# Creating a 3x3 grid plot\n",
    "fig, axes = plt.subplots(3, 3, figsize=(6, 6))\n",
    "\n",
    "for i, ax in enumerate(axes.flat):\n",
    "    ax.imshow(digits.images[random_indices[i]], cmap=plt.cm.gray_r, interpolation='nearest')\n",
    "    ax.set_title(f\"Label: {digits.target[random_indices[i]]}\")\n",
    "\n",
    "    # Removing axis labels\n",
    "    ax.set_xticks([])\n",
    "    ax.set_yticks([])\n",
    "\n",
    "plt.show()"
   ]
  },
  {
   "cell_type": "markdown",
   "metadata": {
    "collapsed": false
   },
   "source": [
    "As you can see, these images are very low resolution. This is because they were originally scanned from paper forms, and then scaled down to 8x8 pixels. This is a common problem in machine learning - the quality of the data is often a limiting factor in the performance of the model. In this case, the low resolution of the images makes it difficult to distinguish between some digits, even for humans. For example, the following images are all labelled as 9, but they look very different:"
   ]
  },
  {
   "cell_type": "code",
   "execution_count": 6,
   "metadata": {
    "collapsed": false
   },
   "outputs": [
    {
     "data": {
      "image/png": "[encoded data removed]",
      "text/plain": [
       "<Figure size 600x600 with 9 Axes>"
      ]
     },
     "metadata": {},
     "output_type": "display_data"
    }
   ],
   "source": [
    "# Selecting 9 random indices of images labelled as 9\n",
    "random_indices = np.random.choice(np.where(digits.target == 9)[0], 9, replace=False)\n",
    "\n",
    "# Creating a 3x3 grid plot\n",
    "fig, axes = plt.subplots(3, 3, figsize=(6, 6))\n",
    "\n",
    "for i, ax in enumerate(axes.flat):\n",
    "    ax.imshow(digits.images[random_indices[i]], cmap=plt.cm.gray_r, interpolation='nearest')\n",
    "    ax.set_title(f\"Label: {digits.target[random_indices[i]]}\")\n",
    "\n",
    "    # Removing axis labels\n",
    "    ax.set_xticks([])\n",
    "    ax.set_yticks([])\n",
    "    \n",
    "plt.show()"
   ]
  },
  {
   "cell_type": "markdown",
   "metadata": {
    "collapsed": false
   },
   "source": [
    "While we are plotting the samples as images, remember that our model is only going to see a 1D array of numbers. "
   ]
  },
  {
   "cell_type": "markdown",
   "metadata": {},
   "source": [
    "## Train / Test Split\n",
    "\n",
    "In order to understand how well our model performs on _new_ data, we need to split our dataset into a training set and a test set. The training set will be used to train the model, and the test set will be used to evaluate the performance of the model.\n",
    "\n",
    "Let's keep some held-out data to be able to measure the generalization performance of our model. "
   ]
  },
  {
   "cell_type": "code",
   "execution_count": 7,
   "metadata": {},
   "outputs": [],
   "source": [
    "from sklearn.model_selection import train_test_split\n",
    "\n",
    "\n",
    "X_train, X_test, y_train, y_test = train_test_split(\n",
    "    digits.data, \n",
    "    digits.target,\n",
    "    test_size=0.2, # 20% of the data is used for testing\n",
    "    random_state=42 # Providing a value here means getting the same \"random\" split every time\n",
    ")"
   ]
  },
  {
   "cell_type": "markdown",
   "metadata": {
    "collapsed": false
   },
   "source": [
    "Let's confirm that the data has been split correctly:"
   ]
  },
  {
   "cell_type": "code",
   "execution_count": 8,
   "metadata": {
    "collapsed": false
   },
   "outputs": [
    {
     "name": "stdout",
     "output_type": "stream",
     "text": [
      "X_train shape: (1437, 64)\n",
      "y_train shape: (1437,)\n",
      "X_test shape: (360, 64)\n",
      "y_test shape: (360,)\n"
     ]
    }
   ],
   "source": [
    "print(f'X_train shape: {X_train.shape}')\n",
    "print(f'y_train shape: {y_train.shape}')\n",
    "print(f'X_test shape: {X_test.shape}')\n",
    "print(f'y_test shape: {y_test.shape}')"
   ]
  },
  {
   "cell_type": "markdown",
   "metadata": {
    "collapsed": false
   },
   "source": [
    "This is what we expected to see. It's always good to check as you go, to make sure that you haven't made a mistake somewhere - this is something that working in a notebook like this makes it easy to do."
   ]
  },
  {
   "cell_type": "markdown",
   "metadata": {},
   "source": [
    "## Preprocessing of the Target Data\n",
    "\n",
    "The labels that we have are integers between 0 and 9. However, we want to train a neural network to classify the images into one of 10 classes. It can be a little counter-intuitive because we are dealing with numbers, but our classes are not ordinal.\n",
    "\n",
    "What do we mean by that? Let's imagine we were trying to predict the height of a building (separated into classes) from images. If a given building was actually 10m tall, and our model predicted 9m, we would consider that to be a better prediction than if it predicted 1m. This is because the classes are ordinal - there is meaning in the difference between the classes.\n",
    "\n",
    "In our case, even though we are dealing with numbers, the classes are not ordinal. If a given image is actually a 9, and our model predicts 8, we would consider that to be just as bad as if it predicted 1. This is because the classes are not ordered, and the difference between the classes is not meaningful.\n",
    "\n",
    "Because of this, we need to convert our labels from an integer value into a one-hot encoded vector. This means that each label will be represented as a vector of length 10, with a 1 in the position corresponding to the class, and 0s everywhere else. For example, the label 9 would be represented as `[0, 0, 0, 0, 0, 0, 0, 0, 0, 1]`. This is a common way of representing categorical data in machine learning. By doing this, we ensure that our model is taught the correct relationship between the classes."
   ]
  },
  {
   "cell_type": "code",
   "execution_count": 9,
   "metadata": {},
   "outputs": [
    {
     "name": "stdout",
     "output_type": "stream",
     "text": [
      "Before one-hot encoding: 6\n",
      "After one-hot encoding: [0. 0. 0. 0. 0. 0. 1. 0. 0. 0.]\n"
     ]
    }
   ],
   "source": [
    "from tensorflow.keras.utils import to_categorical\n",
    "\n",
    "print(f'Before one-hot encoding: {y_train[0]}')\n",
    "y_train = to_categorical(y_train, num_classes=10)\n",
    "y_test = to_categorical(y_test, num_classes=10)\n",
    "print(f'After one-hot encoding: {y_train[0]}')"
   ]
  },
  {
   "cell_type": "markdown",
   "metadata": {},
   "source": [
    "## Feed Forward Neural Networks with Keras\n",
    "\n",
    "Now that we have prepared our data, it's time to build a simple neural network! In this section, we will use the Keras API to build a simple feed forward neural network. We will then train the model on the MNIST dataset, and evaluate its performance on the test set.\n",
    "\n",
    "In most modern deep learning frameworks, the process of building a model can be broken down into a few steps:\n",
    "\n",
    "- Define the model architecture: this is where we define the layers of the model, and how they are connected to each other.\n",
    "- Compile the model: this is where we define the loss function, the optimizer, and the metrics that we want to use to evaluate the model.\n",
    "- Train the model: this is where we train the model on the training data.\n",
    "\n",
    "Let's start with defining the model architecture. There are two ways to do this in Keras - the Sequential API and the Functional API. The Sequential API is the simplest way to build a model, and is suitable for most use cases. The Functional API is more flexible, and allows you to build more complex models. We will start with the Sequential API, and then we will look at the Functional API later in the course.\n",
    "\n",
    "Our simple neural network will be \"fully-connected\". This means that each neuron in a given layer is connected to every neuron in the next layer. This is also known as a \"dense\" layer. We will use the `Dense` class from Keras to define our layers."
   ]
  },
  {
   "cell_type": "code",
   "execution_count": 10,
   "metadata": {
    "collapsed": false
   },
   "outputs": [
    {
     "name": "stdout",
     "output_type": "stream",
     "text": [
      "Model: \"sequential\"\n",
      "_________________________________________________________________\n",
      " Layer (type)                Output Shape              Param #   \n",
      "=================================================================\n",
      " dense (Dense)               (None, 64)                4160      \n",
      "                                                                 \n",
      " dense_1 (Dense)             (None, 64)                4160      \n",
      "                                                                 \n",
      " dense_2 (Dense)             (None, 10)                650       \n",
      "                                                                 \n",
      "=================================================================\n",
      "Total params: 8,970\n",
      "Trainable params: 8,970\n",
      "Non-trainable params: 0\n",
      "_________________________________________________________________\n"
     ]
    }
   ],
   "source": [
    "from tensorflow.keras.models import Sequential\n",
    "from tensorflow.keras.layers import Dense\n",
    "\n",
    "model = Sequential()\n",
    "\n",
    "# Input layer\n",
    "model.add(Dense(64, activation='relu', input_shape=(64,))) # 64 neurons, ReLU activation, input shape of 64\n",
    "\n",
    "# Hidden layer\n",
    "model.add(Dense(64, activation='relu')) # 64 neurons, ReLU activation\n",
    "\n",
    "# Output layer\n",
    "model.add(Dense(10, activation='softmax')) # 10 neurons, softmax activation\n",
    "\n",
    "model.summary()"
   ]
  },
  {
   "cell_type": "markdown",
   "metadata": {
    "collapsed": false
   },
   "source": [
    "Congratulations! You have just built your first neural network with Keras. As we can confirm from the `model.summary()` output, our model has 3 layers. The first layer has 64 neurons, the second layer has 64 neurons, and the output layer has 10 neurons. The output layer uses the softmax activation function, which is commonly used for multi-class classification problems. The other layers use the ReLU activation function, which is commonly used for hidden layers in neural networks.\n",
    "\n",
    "Next, we need to compile the model. This is where we define the loss function, the optimizer, and the metrics that we want to use to evaluate the model. We will use the `compile` method of the model to do this."
   ]
  },
  {
   "cell_type": "code",
   "execution_count": 11,
   "metadata": {
    "collapsed": false
   },
   "outputs": [],
   "source": [
    "model.compile(\n",
    "    loss='categorical_crossentropy', # Loss function\n",
    "    optimizer='sgd', # Optimizer\n",
    "    metrics=['accuracy'] # Metrics to evaluate the model\n",
    ")"
   ]
  },
  {
   "cell_type": "markdown",
   "metadata": {
    "collapsed": false
   },
   "source": [
    "Because we are predicting which class a sample belongs to, we will use the `categorical_crossentropy` function. This loss function is commonly used for multi-class classification problems. \n",
    "\n",
    "For our optimizer, we are using the standard stochastic gradient descent (SGD) algorithm. This is a simple optimizer that works well for many problems. We will look at more advanced optimizers later in the course.\n",
    "\n",
    "Finally, we are using the `accuracy` metric to evaluate the model. This is a common metric for classification problems, and it is simply the fraction of samples that are correctly classified. This is an easier metric for us to understand, but it's not quite as useful for actually training the model (for example, it doesn't tell us how \"confident\" the model is in its predictions).\n",
    "\n",
    "Now that we have (a) defined the model architecture and (b) compiled the model, we are ready to train the model. We will use the `fit` method of the model to do this."
   ]
  },
  {
   "cell_type": "code",
   "execution_count": 12,
   "metadata": {
    "collapsed": false
   },
   "outputs": [
    {
     "name": "stdout",
     "output_type": "stream",
     "text": [
      "Epoch 1/5\n",
      "36/36 [==============================] - 1s 10ms/step - loss: 1.7024 - accuracy: 0.5396 - val_loss: 0.7470 - val_accuracy: 0.7743\n",
      "Epoch 2/5\n",
      "36/36 [==============================] - 0s 2ms/step - loss: 0.5082 - accuracy: 0.8372 - val_loss: 0.5001 - val_accuracy: 0.8507\n",
      "Epoch 3/5\n",
      "36/36 [==============================] - 0s 2ms/step - loss: 0.3238 - accuracy: 0.9034 - val_loss: 0.3808 - val_accuracy: 0.8854\n",
      "Epoch 4/5\n",
      "36/36 [==============================] - 0s 3ms/step - loss: 0.2519 - accuracy: 0.9278 - val_loss: 0.3185 - val_accuracy: 0.8993\n",
      "Epoch 5/5\n",
      "36/36 [==============================] - 0s 3ms/step - loss: 0.1953 - accuracy: 0.9443 - val_loss: 0.2744 - val_accuracy: 0.9028\n"
     ]
    },
    {
     "data": {
      "text/plain": [
       "<keras.callbacks.History at 0x2db3c34f340>"
      ]
     },
     "execution_count": 12,
     "metadata": {},
     "output_type": "execute_result"
    }
   ],
   "source": [
    "model.fit(\n",
    "    X_train, # Training data\n",
    "    y_train, # Training labels\n",
    "    epochs=5, # Number of epochs\n",
    "    batch_size=32, # Number of samples per batch\n",
    "    validation_split=0.2 # Use 20% of the data for validation\n",
    ")"
   ]
  },
  {
   "cell_type": "markdown",
   "metadata": {
    "collapsed": false
   },
   "source": [
    "We have now trained our model! We can see that the model has been trained for 5 epochs, and the loss and accuracy have been printed for each epoch. We can also see that the model has been evaluated on the validation data at the end of each epoch. This is useful for us to see how the model is performing on data that it hasn't seen during training.\n",
    "\n",
    "Once the model is trained, it's time to evaluate the model on the test set. We can use the `evaluate` method of the model to do this. If you were building a model for a real-world application, this is the very last thing you would do, and the result here would be the figure you'd report in your paper or presentation."
   ]
  },
  {
   "cell_type": "code",
   "execution_count": 13,
   "metadata": {
    "collapsed": false
   },
   "outputs": [
    {
     "name": "stdout",
     "output_type": "stream",
     "text": [
      "12/12 [==============================] - 0s 1ms/step - loss: 0.2387 - accuracy: 0.9333\n",
      "Loss:     0.24\n",
      "Accuracy: 93.33%\n"
     ]
    }
   ],
   "source": [
    "loss, accuracy = model.evaluate(X_test, y_test)\n",
    "\n",
    "print(f'Loss:     {loss:.2f}')\n",
    "print(f'Accuracy: {accuracy*100:.2f}%')"
   ]
  },
  {
   "cell_type": "markdown",
   "metadata": {
    "collapsed": false
   },
   "source": [
    "Hopefully you have achieved an accuracy of around 95%. This is pretty good, but we can do better! In the next section, we will look at how we can improve the performance of our model by using a more advanced optimizer. But before we get there, let's do one other thing - let's look at the predictions that our model is making on the test set. When you are building a model, it's often useful to have a look at some of the examples your model is getting wrong. Sometimes this can reveal problems with the data, or it can give you ideas for how to improve your model."
   ]
  },
  {
   "cell_type": "code",
   "execution_count": 14,
   "metadata": {
    "collapsed": false
   },
   "outputs": [
    {
     "name": "stdout",
     "output_type": "stream",
     "text": [
      "12/12 [==============================] - 0s 907us/step\n"
     ]
    },
    {
     "data": {
      "image/png": "[encoded data removed]",
      "text/plain": [
       "<Figure size 600x600 with 9 Axes>"
      ]
     },
     "metadata": {},
     "output_type": "display_data"
    }
   ],
   "source": [
    "# Get the predictions for the test data\n",
    "predictions = model.predict(X_test)\n",
    "\n",
    "# Get the index of the largest probability (i.e. the predicted class)\n",
    "predicted_classes = np.argmax(predictions, axis=1)\n",
    "true_classes = np.argmax(y_test, axis=1)\n",
    "misclassified_indices = np.where(predicted_classes != true_classes)[0]\n",
    "\n",
    "# Get the misclassified samples themselves\n",
    "misclassified_samples = X_test[misclassified_indices]\n",
    "misclassified_labels = np.argmax(y_test[misclassified_indices], axis=1)\n",
    "\n",
    "# Pick 9 random misclassified samples\n",
    "random_indices = np.random.choice(len(misclassified_indices), 9, replace=False)\n",
    "\n",
    "fig, axes = plt.subplots(3, 3, figsize=(6, 6))\n",
    "for i, ax in enumerate(axes.flat):\n",
    "    ax.imshow(misclassified_samples[random_indices[i]].reshape(8, 8), cmap=plt.cm.gray_r, interpolation='nearest')\n",
    "    ax.set_title(f\"Pred: {predicted_classes[misclassified_indices[random_indices[i]]]}, Real: {misclassified_labels[random_indices[i]]}\")\n",
    "\n",
    "    # Removing axis labels\n",
    "    ax.set_xticks([])\n",
    "    ax.set_yticks([])\n",
    "    \n",
    "plt.show()"
   ]
  },
  {
   "cell_type": "markdown",
   "metadata": {
    "collapsed": false
   },
   "source": [
    "What do you think? Would you have made the same mistakes as the model? Determining whether the mistakes are \"understandable\" is a rough way of seeing if you could improve the model further, or if this is the best you can do with the data you have."
   ]
  },
  {
   "cell_type": "markdown",
   "metadata": {},
   "source": [
    "### b) Exercises: Impact of the Optimizer\n",
    "\n",
    "In this section, you will play around with the optimizer and see how it affects the performance of the model. We will start with the standard SGD optimizer, and then we will look at more advanced optimizers.\n",
    "\n",
    "1. Try decreasing the learning rate of the SGD optimizer by a factor of 10, or 100. What do you observe?\n",
    "2. Try increasing the learning rate of the SGD optimizer. What happens?\n",
    "3. The SGD optimizer has a momentum parameter. In a nutshell, this parameter controls how much the gradient from the previous step affects the current step. Try enabling momentum in the SGD optimizer with a value of 0.9. What happens?\n",
    "  \n",
    "**Notes**: \n",
    "\n",
    "The keras API documentation is available at:\n",
    "\n",
    "https://www.tensorflow.org/api_docs/python/tf/keras\n",
    "\n",
    "It is also possible to learn more about the parameters of a class by using the question mark: type and evaluate:\n",
    "\n",
    "```python\n",
    "optimizers.SGD?\n",
    "```\n",
    "\n",
    "in a jupyter notebook cell.\n",
    "\n",
    "It is also possible to type the beginning of a function call / constructor and type \"shift-tab\" after the opening paren:\n",
    "\n",
    "```python\n",
    "optimizers.SGD(<shift-tab>\n",
    "```"
   ]
  },
  {
   "cell_type": "code",
   "execution_count": 15,
   "metadata": {},
   "outputs": [
    {
     "name": "stdout",
     "output_type": "stream",
     "text": [
      "Model: \"sequential_1\"\n",
      "_________________________________________________________________\n",
      " Layer (type)                Output Shape              Param #   \n",
      "=================================================================\n",
      " dense_3 (Dense)             (None, 64)                4160      \n",
      "                                                                 \n",
      " dense_4 (Dense)             (None, 64)                4160      \n",
      "                                                                 \n",
      " dense_5 (Dense)             (None, 10)                650       \n",
      "                                                                 \n",
      "=================================================================\n",
      "Total params: 8,970\n",
      "Trainable params: 8,970\n",
      "Non-trainable params: 0\n",
      "_________________________________________________________________\n",
      "SGR learning rate = 0.01\n",
      "Epoch 1/15\n",
      "45/45 [==============================] - 1s 1ms/step - loss: 1.3346 - accuracy: 0.6354\n",
      "Epoch 2/15\n",
      "45/45 [==============================] - 0s 1ms/step - loss: 0.3722 - accuracy: 0.8900\n",
      "Epoch 3/15\n",
      "45/45 [==============================] - 0s 1ms/step - loss: 0.2577 - accuracy: 0.9255\n",
      "Epoch 4/15\n",
      "45/45 [==============================] - 0s 1ms/step - loss: 0.1890 - accuracy: 0.9548\n",
      "Epoch 5/15\n",
      "45/45 [==============================] - 0s 1ms/step - loss: 0.1618 - accuracy: 0.9582\n",
      "Epoch 6/15\n",
      "45/45 [==============================] - 0s 1ms/step - loss: 0.1309 - accuracy: 0.9715\n",
      "Epoch 7/15\n",
      "45/45 [==============================] - 0s 1ms/step - loss: 0.1141 - accuracy: 0.9743\n",
      "Epoch 8/15\n",
      "45/45 [==============================] - 0s 2ms/step - loss: 0.1060 - accuracy: 0.9770\n",
      "Epoch 9/15\n",
      "45/45 [==============================] - 0s 2ms/step - loss: 0.0861 - accuracy: 0.9805\n",
      "Epoch 10/15\n",
      "45/45 [==============================] - 0s 2ms/step - loss: 0.0763 - accuracy: 0.9847\n",
      "Epoch 11/15\n",
      "45/45 [==============================] - 0s 2ms/step - loss: 0.0715 - accuracy: 0.9854\n",
      "Epoch 12/15\n",
      "45/45 [==============================] - 0s 2ms/step - loss: 0.0613 - accuracy: 0.9889\n",
      "Epoch 13/15\n",
      "45/45 [==============================] - 0s 2ms/step - loss: 0.0537 - accuracy: 0.9903\n",
      "Epoch 14/15\n",
      "45/45 [==============================] - 0s 1ms/step - loss: 0.0516 - accuracy: 0.9910\n",
      "Epoch 15/15\n",
      "45/45 [==============================] - 0s 2ms/step - loss: 0.0485 - accuracy: 0.9916\n",
      "Model: \"sequential_2\"\n",
      "_________________________________________________________________\n",
      " Layer (type)                Output Shape              Param #   \n",
      "=================================================================\n",
      " dense_6 (Dense)             (None, 64)                4160      \n",
      "                                                                 \n",
      " dense_7 (Dense)             (None, 64)                4160      \n",
      "                                                                 \n",
      " dense_8 (Dense)             (None, 10)                650       \n",
      "                                                                 \n",
      "=================================================================\n",
      "Total params: 8,970\n",
      "Trainable params: 8,970\n",
      "Non-trainable params: 0\n",
      "_________________________________________________________________\n",
      "SGR learning rate = 0.001\n",
      "Epoch 1/15\n",
      "45/45 [==============================] - 1s 1ms/step - loss: 3.0001 - accuracy: 0.2512\n",
      "Epoch 2/15\n",
      "45/45 [==============================] - 0s 2ms/step - loss: 1.7192 - accuracy: 0.4426\n",
      "Epoch 3/15\n",
      "45/45 [==============================] - 0s 1ms/step - loss: 1.2276 - accuracy: 0.5880\n",
      "Epoch 4/15\n",
      "45/45 [==============================] - 0s 1ms/step - loss: 0.9541 - accuracy: 0.6966\n",
      "Epoch 5/15\n",
      "45/45 [==============================] - 0s 1ms/step - loss: 0.7870 - accuracy: 0.7446\n",
      "Epoch 6/15\n",
      "45/45 [==============================] - 0s 1ms/step - loss: 0.6730 - accuracy: 0.7975\n",
      "Epoch 7/15\n",
      "45/45 [==============================] - 0s 1ms/step - loss: 0.5897 - accuracy: 0.8295\n",
      "Epoch 8/15\n",
      "45/45 [==============================] - 0s 1ms/step - loss: 0.5293 - accuracy: 0.8441\n",
      "Epoch 9/15\n",
      "45/45 [==============================] - 0s 2ms/step - loss: 0.4788 - accuracy: 0.8601\n",
      "Epoch 10/15\n",
      "45/45 [==============================] - 0s 2ms/step - loss: 0.4393 - accuracy: 0.8796\n",
      "Epoch 11/15\n",
      "45/45 [==============================] - 0s 2ms/step - loss: 0.4051 - accuracy: 0.8900\n",
      "Epoch 12/15\n",
      "45/45 [==============================] - 0s 1ms/step - loss: 0.3789 - accuracy: 0.8998\n",
      "Epoch 13/15\n",
      "45/45 [==============================] - 0s 2ms/step - loss: 0.3544 - accuracy: 0.9033\n",
      "Epoch 14/15\n",
      "45/45 [==============================] - 0s 2ms/step - loss: 0.3326 - accuracy: 0.9047\n",
      "Epoch 15/15\n",
      "45/45 [==============================] - 0s 1ms/step - loss: 0.3147 - accuracy: 0.9186\n",
      "Model: \"sequential_3\"\n",
      "_________________________________________________________________\n",
      " Layer (type)                Output Shape              Param #   \n",
      "=================================================================\n",
      " dense_9 (Dense)             (None, 64)                4160      \n",
      "                                                                 \n",
      " dense_10 (Dense)            (None, 64)                4160      \n",
      "                                                                 \n",
      " dense_11 (Dense)            (None, 10)                650       \n",
      "                                                                 \n",
      "=================================================================\n",
      "Total params: 8,970\n",
      "Trainable params: 8,970\n",
      "Non-trainable params: 0\n",
      "_________________________________________________________________\n",
      "SGR learning rate = 0.0001\n",
      "Epoch 1/15\n",
      "45/45 [==============================] - 0s 1ms/step - loss: 5.8844 - accuracy: 0.1608\n",
      "Epoch 2/15\n",
      "45/45 [==============================] - 0s 1ms/step - loss: 4.4156 - accuracy: 0.1747\n",
      "Epoch 3/15\n",
      "45/45 [==============================] - 0s 1ms/step - loss: 3.6556 - accuracy: 0.1872\n",
      "Epoch 4/15\n",
      "45/45 [==============================] - 0s 1ms/step - loss: 3.1953 - accuracy: 0.2116\n",
      "Epoch 5/15\n",
      "45/45 [==============================] - 0s 1ms/step - loss: 2.8808 - accuracy: 0.2463\n",
      "Epoch 6/15\n",
      "45/45 [==============================] - 0s 1ms/step - loss: 2.6489 - accuracy: 0.2707\n",
      "Epoch 7/15\n",
      "45/45 [==============================] - 0s 1ms/step - loss: 2.4679 - accuracy: 0.2930\n",
      "Epoch 8/15\n",
      "45/45 [==============================] - 0s 2ms/step - loss: 2.3210 - accuracy: 0.3132\n",
      "Epoch 9/15\n",
      "45/45 [==============================] - 0s 1ms/step - loss: 2.1959 - accuracy: 0.3333\n",
      "Epoch 10/15\n",
      "45/45 [==============================] - 0s 1ms/step - loss: 2.0873 - accuracy: 0.3514\n",
      "Epoch 11/15\n",
      "45/45 [==============================] - 0s 1ms/step - loss: 1.9912 - accuracy: 0.3660\n",
      "Epoch 12/15\n",
      "45/45 [==============================] - 0s 1ms/step - loss: 1.9042 - accuracy: 0.3834\n",
      "Epoch 13/15\n",
      "45/45 [==============================] - 0s 1ms/step - loss: 1.8254 - accuracy: 0.4008\n",
      "Epoch 14/15\n",
      "45/45 [==============================] - 0s 1ms/step - loss: 1.7532 - accuracy: 0.4182\n",
      "Epoch 15/15\n",
      "45/45 [==============================] - 0s 1ms/step - loss: 1.6867 - accuracy: 0.4391\n",
      "Model: \"sequential_4\"\n",
      "_________________________________________________________________\n",
      " Layer (type)                Output Shape              Param #   \n",
      "=================================================================\n",
      " dense_12 (Dense)            (None, 64)                4160      \n",
      "                                                                 \n",
      " dense_13 (Dense)            (None, 64)                4160      \n",
      "                                                                 \n",
      " dense_14 (Dense)            (None, 10)                650       \n",
      "                                                                 \n",
      "=================================================================\n",
      "Total params: 8,970\n",
      "Trainable params: 8,970\n",
      "Non-trainable params: 0\n",
      "_________________________________________________________________\n",
      "SGR learning rate = 0.1\n",
      "Epoch 1/15\n",
      "45/45 [==============================] - 1s 1ms/step - loss: 3.0473 - accuracy: 0.2317\n",
      "Epoch 2/15\n",
      "45/45 [==============================] - 0s 1ms/step - loss: 2.0672 - accuracy: 0.2832\n",
      "Epoch 3/15\n",
      "45/45 [==============================] - 0s 1ms/step - loss: 1.8148 - accuracy: 0.3730\n",
      "Epoch 4/15\n",
      "45/45 [==============================] - 0s 1ms/step - loss: 1.4164 - accuracy: 0.5240\n",
      "Epoch 5/15\n",
      "45/45 [==============================] - 0s 1ms/step - loss: 1.0613 - accuracy: 0.6632\n",
      "Epoch 6/15\n",
      "45/45 [==============================] - 0s 1ms/step - loss: 0.8829 - accuracy: 0.7411\n",
      "Epoch 7/15\n",
      "45/45 [==============================] - 0s 1ms/step - loss: 0.5591 - accuracy: 0.8525\n",
      "Epoch 8/15\n",
      "45/45 [==============================] - 0s 1ms/step - loss: 0.3461 - accuracy: 0.9033\n",
      "Epoch 9/15\n",
      "45/45 [==============================] - 0s 1ms/step - loss: 0.3433 - accuracy: 0.8998\n",
      "Epoch 10/15\n",
      "45/45 [==============================] - 0s 1ms/step - loss: 0.2294 - accuracy: 0.9402\n",
      "Epoch 11/15\n",
      "45/45 [==============================] - 0s 1ms/step - loss: 0.2290 - accuracy: 0.9395\n",
      "Epoch 12/15\n",
      "45/45 [==============================] - 0s 1ms/step - loss: 0.8026 - accuracy: 0.8198\n",
      "Epoch 13/15\n",
      "45/45 [==============================] - 0s 1ms/step - loss: 0.3848 - accuracy: 0.8845\n",
      "Epoch 14/15\n",
      "45/45 [==============================] - 0s 1ms/step - loss: 0.2938 - accuracy: 0.9158\n",
      "Epoch 15/15\n",
      "45/45 [==============================] - 0s 1ms/step - loss: 0.1948 - accuracy: 0.9408\n",
      "Model: \"sequential_5\"\n",
      "_________________________________________________________________\n",
      " Layer (type)                Output Shape              Param #   \n",
      "=================================================================\n",
      " dense_15 (Dense)            (None, 64)                4160      \n",
      "                                                                 \n",
      " dense_16 (Dense)            (None, 64)                4160      \n",
      "                                                                 \n",
      " dense_17 (Dense)            (None, 10)                650       \n",
      "                                                                 \n",
      "=================================================================\n",
      "Total params: 8,970\n",
      "Trainable params: 8,970\n",
      "Non-trainable params: 0\n",
      "_________________________________________________________________\n",
      "SGR learning rate = 1\n",
      "Epoch 1/15\n",
      "45/45 [==============================] - 1s 1ms/step - loss: 21410.4531 - accuracy: 0.0932\n",
      "Epoch 2/15\n",
      "45/45 [==============================] - 0s 1ms/step - loss: 2.3136 - accuracy: 0.0849\n",
      "Epoch 3/15\n",
      "45/45 [==============================] - 0s 1ms/step - loss: 2.3108 - accuracy: 0.1023\n",
      "Epoch 4/15\n",
      "45/45 [==============================] - 0s 1ms/step - loss: 2.3126 - accuracy: 0.0939\n",
      "Epoch 5/15\n",
      "45/45 [==============================] - 0s 1ms/step - loss: 2.3126 - accuracy: 0.0849\n",
      "Epoch 6/15\n",
      "45/45 [==============================] - 0s 1ms/step - loss: 2.3111 - accuracy: 0.0967\n",
      "Epoch 7/15\n",
      "45/45 [==============================] - 0s 1ms/step - loss: 2.3098 - accuracy: 0.1044\n",
      "Epoch 8/15\n",
      "45/45 [==============================] - 0s 1ms/step - loss: 2.3118 - accuracy: 0.0919\n",
      "Epoch 9/15\n",
      "45/45 [==============================] - 0s 1ms/step - loss: 2.3125 - accuracy: 0.1016\n",
      "Epoch 10/15\n",
      "45/45 [==============================] - 0s 2ms/step - loss: 2.3110 - accuracy: 0.1016\n",
      "Epoch 11/15\n",
      "45/45 [==============================] - 0s 1ms/step - loss: 2.3127 - accuracy: 0.0939\n",
      "Epoch 12/15\n",
      "45/45 [==============================] - 0s 1ms/step - loss: 2.3116 - accuracy: 0.0939\n",
      "Epoch 13/15\n",
      "45/45 [==============================] - 0s 1ms/step - loss: 2.3120 - accuracy: 0.0981\n",
      "Epoch 14/15\n",
      "45/45 [==============================] - 0s 1ms/step - loss: 2.3115 - accuracy: 0.0960\n",
      "Epoch 15/15\n",
      "45/45 [==============================] - 0s 4ms/step - loss: 2.3127 - accuracy: 0.0946\n",
      "Model: \"sequential_6\"\n",
      "_________________________________________________________________\n",
      " Layer (type)                Output Shape              Param #   \n",
      "=================================================================\n",
      " dense_18 (Dense)            (None, 64)                4160      \n",
      "                                                                 \n",
      " dense_19 (Dense)            (None, 64)                4160      \n",
      "                                                                 \n",
      " dense_20 (Dense)            (None, 10)                650       \n",
      "                                                                 \n",
      "=================================================================\n",
      "Total params: 8,970\n",
      "Trainable params: 8,970\n",
      "Non-trainable params: 0\n",
      "_________________________________________________________________\n",
      "SGR learning rate = 10\n",
      "Epoch 1/15\n",
      "45/45 [==============================] - 1s 1ms/step - loss: 243843647668224.0000 - accuracy: 0.1037\n",
      "Epoch 2/15\n",
      "45/45 [==============================] - 0s 1ms/step - loss: 2.4723 - accuracy: 0.0995\n",
      "Epoch 3/15\n",
      "45/45 [==============================] - 0s 2ms/step - loss: 2.5233 - accuracy: 0.0905\n",
      "Epoch 4/15\n",
      "45/45 [==============================] - 0s 1ms/step - loss: 2.4968 - accuracy: 0.0946\n",
      "Epoch 5/15\n",
      "45/45 [==============================] - 0s 1ms/step - loss: 2.4531 - accuracy: 0.1037\n",
      "Epoch 6/15\n",
      "45/45 [==============================] - 0s 1ms/step - loss: 2.5052 - accuracy: 0.0995\n",
      "Epoch 7/15\n",
      "45/45 [==============================] - 0s 1ms/step - loss: 2.4774 - accuracy: 0.0884\n",
      "Epoch 8/15\n",
      "45/45 [==============================] - 0s 1ms/step - loss: 2.4486 - accuracy: 0.1079\n",
      "Epoch 9/15\n",
      "45/45 [==============================] - 0s 1ms/step - loss: 2.4673 - accuracy: 0.0905\n",
      "Epoch 10/15\n",
      "45/45 [==============================] - 0s 1ms/step - loss: 2.4584 - accuracy: 0.0995\n",
      "Epoch 11/15\n",
      "45/45 [==============================] - 0s 1ms/step - loss: 2.4583 - accuracy: 0.0946\n",
      "Epoch 12/15\n",
      "45/45 [==============================] - 0s 1ms/step - loss: 2.4733 - accuracy: 0.1058\n",
      "Epoch 13/15\n",
      "45/45 [==============================] - 0s 1ms/step - loss: 2.4899 - accuracy: 0.0967\n",
      "Epoch 14/15\n",
      "45/45 [==============================] - 0s 1ms/step - loss: 2.4796 - accuracy: 0.0981\n",
      "Epoch 15/15\n",
      "45/45 [==============================] - 0s 1ms/step - loss: 2.4907 - accuracy: 0.0926\n"
     ]
    }
   ],
   "source": [
    "from tensorflow.keras.optimizers import SGD\n",
    "\n",
    "# Your code here - copy the relevant parts from the previous section and add more cells as needed\n",
    "# Try DECREASING and INCREASING Learning Rate\n",
    "lrs = [0.01, 0.001, 0.0001, 0.1, 1, 10]\n",
    "\n",
    "for lr in lrs:\n",
    "    model = Sequential()\n",
    "\n",
    "    # Input layer\n",
    "    model.add(Dense(64, activation='relu', input_shape=(64,))) # 64 neurons, ReLU activation, input shape of 64\n",
    "\n",
    "    # Hidden layer\n",
    "    model.add(Dense(64, activation='relu')) # 64 neurons, ReLU activation\n",
    "\n",
    "    # Output layer\n",
    "    model.add(Dense(10, activation='softmax')) # 10 neurons, softmax activation\n",
    "\n",
    "    model.summary()\n",
    "\n",
    "    model.compile(\n",
    "        loss='categorical_crossentropy', # Loss function\n",
    "        optimizer=SGD(learning_rate=lr), # Optimizer\n",
    "        metrics=['accuracy'] # Metrics to evaluate the model\n",
    "    )\n",
    "\n",
    "    print(f'SGR learning rate = {lr}')\n",
    "    history = model.fit(X_train, y_train, epochs=15, batch_size=32)"
   ]
  },
  {
   "cell_type": "markdown",
   "metadata": {},
   "source": [
    "> As we can see from the results of the learning pocess for different values of the Learning Rate,\n",
    "it is important to find optimum value for the Learningn Rate parameter since the lower the value the slower model learns,\n",
    "the higher the value the more chances the model will not find global minimum while minimizing the loss."
   ]
  },
  {
   "cell_type": "code",
   "execution_count": 16,
   "metadata": {},
   "outputs": [
    {
     "name": "stdout",
     "output_type": "stream",
     "text": [
      "Model: \"sequential_7\"\n",
      "_________________________________________________________________\n",
      " Layer (type)                Output Shape              Param #   \n",
      "=================================================================\n",
      " dense_21 (Dense)            (None, 64)                4160      \n",
      "                                                                 \n",
      " dense_22 (Dense)            (None, 64)                4160      \n",
      "                                                                 \n",
      " dense_23 (Dense)            (None, 10)                650       \n",
      "                                                                 \n",
      "=================================================================\n",
      "Total params: 8,970\n",
      "Trainable params: 8,970\n",
      "Non-trainable params: 0\n",
      "_________________________________________________________________\n",
      "Epoch 1/15\n",
      "45/45 [==============================] - 1s 2ms/step - loss: 1.4213 - accuracy: 0.6604\n",
      "Epoch 2/15\n",
      "45/45 [==============================] - 0s 2ms/step - loss: 0.2978 - accuracy: 0.8963\n",
      "Epoch 3/15\n",
      "45/45 [==============================] - 0s 1ms/step - loss: 0.1200 - accuracy: 0.9589\n",
      "Epoch 4/15\n",
      "45/45 [==============================] - 0s 2ms/step - loss: 0.1092 - accuracy: 0.9603\n",
      "Epoch 5/15\n",
      "45/45 [==============================] - 0s 2ms/step - loss: 0.0945 - accuracy: 0.9701\n",
      "Epoch 6/15\n",
      "45/45 [==============================] - 0s 1ms/step - loss: 0.1112 - accuracy: 0.9589\n",
      "Epoch 7/15\n",
      "45/45 [==============================] - 0s 1ms/step - loss: 0.0616 - accuracy: 0.9791\n",
      "Epoch 8/15\n",
      "45/45 [==============================] - 0s 1ms/step - loss: 0.0515 - accuracy: 0.9819\n",
      "Epoch 9/15\n",
      "45/45 [==============================] - 0s 1ms/step - loss: 0.0267 - accuracy: 0.9903\n",
      "Epoch 10/15\n",
      "45/45 [==============================] - 0s 1ms/step - loss: 0.0251 - accuracy: 0.9910\n",
      "Epoch 11/15\n",
      "45/45 [==============================] - 0s 2ms/step - loss: 0.0210 - accuracy: 0.9930\n",
      "Epoch 12/15\n",
      "45/45 [==============================] - 0s 1ms/step - loss: 0.0381 - accuracy: 0.9840\n",
      "Epoch 13/15\n",
      "45/45 [==============================] - 0s 1ms/step - loss: 0.0162 - accuracy: 0.9944\n",
      "Epoch 14/15\n",
      "45/45 [==============================] - 0s 1ms/step - loss: 0.0066 - accuracy: 0.9986\n",
      "Epoch 15/15\n",
      "45/45 [==============================] - 0s 2ms/step - loss: 0.0016 - accuracy: 1.0000\n"
     ]
    }
   ],
   "source": [
    "# Enable MOMENTUM = 0.9\n",
    "model = Sequential()\n",
    "\n",
    "# Input layer\n",
    "model.add(Dense(64, activation='relu', input_shape=(64,))) # 64 neurons, ReLU activation, input shape of 64\n",
    "\n",
    "# Hidden layer\n",
    "model.add(Dense(64, activation='relu')) # 64 neurons, ReLU activation\n",
    "\n",
    "# Output layer\n",
    "model.add(Dense(10, activation='softmax')) # 10 neurons, softmax activation\n",
    "\n",
    "model.summary()\n",
    "\n",
    "model.compile(\n",
    "    loss='categorical_crossentropy', # Loss function\n",
    "    optimizer=SGD(momentum=0.9), # Optimizer\n",
    "    metrics=['accuracy'] # Metrics to evaluate the model\n",
    ")\n",
    "\n",
    "history = model.fit(X_train, y_train, epochs=15, batch_size=32)"
   ]
  },
  {
   "cell_type": "markdown",
   "metadata": {},
   "source": [
    "> By setting the variable value to 0.9, we achieved an increase in the model training speed. The model reached an accuracy of 1.0 much earlier than with the default value."
   ]
  },
  {
   "cell_type": "markdown",
   "metadata": {},
   "source": [
    "Next, let's try a more advanced optimizer. Adam is likely the most popular optimizer for deep learning. It is an adaptive learning rate optimizer, which means that it automatically adjusts the learning rate based on how the training is going. This can be very useful, as it means that we don't need to manually tune the learning rate. Let's see how it performs on our model.\n",
    "\n",
    "\n",
    "1. Replace the SGD optimizer by the Adam optimizer from keras and run it\n",
    "  with the default parameters.\n",
    "\n",
    "2. Add another hidden layer with ReLU activation and 64 neurons. Does it improve the model performance?\n"
   ]
  },
  {
   "cell_type": "code",
   "execution_count": 17,
   "metadata": {},
   "outputs": [
    {
     "name": "stdout",
     "output_type": "stream",
     "text": [
      "Model: \"sequential_8\"\n",
      "_________________________________________________________________\n",
      " Layer (type)                Output Shape              Param #   \n",
      "=================================================================\n",
      " dense_24 (Dense)            (None, 64)                4160      \n",
      "                                                                 \n",
      " dense_25 (Dense)            (None, 64)                4160      \n",
      "                                                                 \n",
      " dense_26 (Dense)            (None, 10)                650       \n",
      "                                                                 \n",
      "=================================================================\n",
      "Total params: 8,970\n",
      "Trainable params: 8,970\n",
      "Non-trainable params: 0\n",
      "_________________________________________________________________\n",
      "Epoch 1/15\n",
      "45/45 [==============================] - 1s 1ms/step - loss: 2.1219 - accuracy: 0.5087\n",
      "Epoch 2/15\n",
      "45/45 [==============================] - 0s 1ms/step - loss: 0.4385 - accuracy: 0.8671\n",
      "Epoch 3/15\n",
      "45/45 [==============================] - 0s 1ms/step - loss: 0.2583 - accuracy: 0.9193\n",
      "Epoch 4/15\n",
      "45/45 [==============================] - 0s 1ms/step - loss: 0.1780 - accuracy: 0.9541\n",
      "Epoch 5/15\n",
      "45/45 [==============================] - 0s 1ms/step - loss: 0.1304 - accuracy: 0.9680\n",
      "Epoch 6/15\n",
      "45/45 [==============================] - 0s 1ms/step - loss: 0.1010 - accuracy: 0.9743\n",
      "Epoch 7/15\n",
      "45/45 [==============================] - 0s 1ms/step - loss: 0.0916 - accuracy: 0.9729\n",
      "Epoch 8/15\n",
      "45/45 [==============================] - 0s 1ms/step - loss: 0.0636 - accuracy: 0.9861\n",
      "Epoch 9/15\n",
      "45/45 [==============================] - 0s 1ms/step - loss: 0.0539 - accuracy: 0.9889\n",
      "Epoch 10/15\n",
      "45/45 [==============================] - 0s 1ms/step - loss: 0.0406 - accuracy: 0.9944\n",
      "Epoch 11/15\n",
      "45/45 [==============================] - 0s 1ms/step - loss: 0.0328 - accuracy: 0.9951\n",
      "Epoch 12/15\n",
      "45/45 [==============================] - 0s 1ms/step - loss: 0.0290 - accuracy: 0.9951\n",
      "Epoch 13/15\n",
      "45/45 [==============================] - 0s 1ms/step - loss: 0.0233 - accuracy: 0.9965\n",
      "Epoch 14/15\n",
      "45/45 [==============================] - 0s 1ms/step - loss: 0.0214 - accuracy: 0.9972\n",
      "Epoch 15/15\n",
      "45/45 [==============================] - 0s 1ms/step - loss: 0.0159 - accuracy: 0.9979\n"
     ]
    }
   ],
   "source": [
    "# Your code here\n",
    "from tensorflow.keras.optimizers import Adam\n",
    "\n",
    "# Your code here - copy the relevant parts from the previous section and add more cells as needed\n",
    "model = Sequential()\n",
    "\n",
    "# Input layer\n",
    "model.add(Dense(64, activation='relu', input_shape=(64,))) # 64 neurons, ReLU activation, input shape of 64\n",
    "\n",
    "# Hidden layer\n",
    "model.add(Dense(64, activation='relu')) # 64 neurons, ReLU activation\n",
    "\n",
    "# Output layer\n",
    "model.add(Dense(10, activation='softmax')) # 10 neurons, softmax activation\n",
    "\n",
    "model.summary()\n",
    "\n",
    "model.compile(\n",
    "    loss='categorical_crossentropy', # Loss function\n",
    "    optimizer=Adam(), # Optimizer\n",
    "    metrics=['accuracy'] # Metrics to evaluate the model\n",
    ")\n",
    "\n",
    "history = model.fit(X_train, y_train, epochs=15, batch_size=32)"
   ]
  },
  {
   "cell_type": "code",
   "execution_count": 18,
   "metadata": {},
   "outputs": [
    {
     "name": "stdout",
     "output_type": "stream",
     "text": [
      "Model: \"sequential_9\"\n",
      "_________________________________________________________________\n",
      " Layer (type)                Output Shape              Param #   \n",
      "=================================================================\n",
      " dense_27 (Dense)            (None, 64)                4160      \n",
      "                                                                 \n",
      " dense_28 (Dense)            (None, 64)                4160      \n",
      "                                                                 \n",
      " dense_29 (Dense)            (None, 64)                4160      \n",
      "                                                                 \n",
      " dense_30 (Dense)            (None, 10)                650       \n",
      "                                                                 \n",
      "=================================================================\n",
      "Total params: 13,130\n",
      "Trainable params: 13,130\n",
      "Non-trainable params: 0\n",
      "_________________________________________________________________\n",
      "Epoch 1/15\n",
      "45/45 [==============================] - 1s 2ms/step - loss: 1.7392 - accuracy: 0.5233\n",
      "Epoch 2/15\n",
      "45/45 [==============================] - 0s 2ms/step - loss: 0.4399 - accuracy: 0.8720\n",
      "Epoch 3/15\n",
      "45/45 [==============================] - 0s 2ms/step - loss: 0.2251 - accuracy: 0.9346\n",
      "Epoch 4/15\n",
      "45/45 [==============================] - 0s 2ms/step - loss: 0.1310 - accuracy: 0.9631\n",
      "Epoch 5/15\n",
      "45/45 [==============================] - 0s 2ms/step - loss: 0.1010 - accuracy: 0.9680\n",
      "Epoch 6/15\n",
      "45/45 [==============================] - 0s 2ms/step - loss: 0.0661 - accuracy: 0.9840\n",
      "Epoch 7/15\n",
      "45/45 [==============================] - 0s 2ms/step - loss: 0.0434 - accuracy: 0.9916\n",
      "Epoch 8/15\n",
      "45/45 [==============================] - 0s 1ms/step - loss: 0.0300 - accuracy: 0.9951\n",
      "Epoch 9/15\n",
      "45/45 [==============================] - 0s 2ms/step - loss: 0.0240 - accuracy: 0.9979\n",
      "Epoch 10/15\n",
      "45/45 [==============================] - 0s 1ms/step - loss: 0.0213 - accuracy: 0.9986\n",
      "Epoch 11/15\n",
      "45/45 [==============================] - 0s 2ms/step - loss: 0.0154 - accuracy: 0.9986\n",
      "Epoch 12/15\n",
      "45/45 [==============================] - 0s 2ms/step - loss: 0.0114 - accuracy: 0.9993\n",
      "Epoch 13/15\n",
      "45/45 [==============================] - 0s 2ms/step - loss: 0.0080 - accuracy: 1.0000\n",
      "Epoch 14/15\n",
      "45/45 [==============================] - 0s 2ms/step - loss: 0.0071 - accuracy: 0.9993\n",
      "Epoch 15/15\n",
      "45/45 [==============================] - 0s 1ms/step - loss: 0.0062 - accuracy: 1.0000\n"
     ]
    }
   ],
   "source": [
    "# Your code here\n",
    "from tensorflow.keras.optimizers import Adam\n",
    "\n",
    "# Your code here - copy the relevant parts from the previous section and add more cells as needed\n",
    "model = Sequential()\n",
    "\n",
    "# Input layer\n",
    "model.add(Dense(64, activation='relu', input_shape=(64,))) # 64 neurons, ReLU activation, input shape of 64\n",
    "\n",
    "# Hidden layer\n",
    "model.add(Dense(64, activation='relu')) # 64 neurons, ReLU activation\n",
    "\n",
    "# Hidden layer #2\n",
    "model.add(Dense(64, activation='relu')) # 64 neurons, ReLU activation\n",
    "\n",
    "# Output layer\n",
    "model.add(Dense(10, activation='softmax')) # 10 neurons, softmax activation\n",
    "\n",
    "model.summary()\n",
    "\n",
    "model.compile(\n",
    "    loss='categorical_crossentropy', # Loss function\n",
    "    optimizer=Adam(), # Optimizer\n",
    "    metrics=['accuracy'] # Metrics to evaluate the model\n",
    ")\n",
    "\n",
    "history = model.fit(X_train, y_train, epochs=15, batch_size=32)"
   ]
  },
  {
   "cell_type": "markdown",
   "metadata": {},
   "source": [
    "> Adding another hidden layer with ReLU activation and 64 neurons improved the model performance."
   ]
  },
  {
   "cell_type": "markdown",
   "metadata": {},
   "source": [
    "### Exercises: Forward Pass and Generalization\n",
    "\n",
    "Let's look in more detail at how the model makes predictions on the test set. We will walk through each step of making predictions, examining exactly what's going on.\n",
    "\n",
    "To start, we will apply our model to the test set, and look at what we get as output:"
   ]
  },
  {
   "cell_type": "code",
   "execution_count": 19,
   "metadata": {},
   "outputs": [
    {
     "data": {
      "text/plain": [
       "<tf.Tensor: shape=(5, 10), dtype=float32, numpy=\n",
       "array([[2.5405047e-09, 5.5672165e-09, 7.2967341e-11, 6.1975438e-09,\n",
       "        1.1847322e-07, 1.0898583e-08, 9.9999613e-01, 3.0304552e-08,\n",
       "        3.6972110e-06, 1.6485007e-08],\n",
       "       [1.6860544e-07, 7.2384705e-07, 1.2377804e-10, 2.6957287e-07,\n",
       "        6.3216312e-06, 1.3315529e-04, 1.5776812e-09, 3.6104015e-07,\n",
       "        5.9841757e-05, 9.9979925e-01],\n",
       "       [2.3486149e-10, 1.4911397e-07, 2.2855597e-06, 9.9997574e-01,\n",
       "        1.0257502e-10, 9.2702012e-06, 6.8195984e-11, 7.5466168e-08,\n",
       "        4.5742572e-06, 7.8778867e-06],\n",
       "       [1.2370263e-05, 5.2860105e-05, 8.9508028e-08, 4.3705304e-06,\n",
       "        3.9639428e-05, 1.6735513e-03, 1.5381575e-04, 9.7154087e-01,\n",
       "        3.9910967e-04, 2.6123207e-02],\n",
       "       [2.7861105e-09, 1.1733948e-06, 9.9920362e-01, 6.4763887e-04,\n",
       "        4.6101716e-12, 3.5274816e-08, 3.0929989e-08, 1.5166324e-07,\n",
       "        1.4732034e-04, 8.2282774e-08]], dtype=float32)>"
      ]
     },
     "execution_count": 19,
     "metadata": {},
     "output_type": "execute_result"
    }
   ],
   "source": [
    "predictions_tf = model(X_test)\n",
    "predictions_tf[:5]"
   ]
  },
  {
   "cell_type": "code",
   "execution_count": 20,
   "metadata": {},
   "outputs": [
    {
     "data": {
      "text/plain": [
       "(tensorflow.python.framework.ops.EagerTensor, TensorShape([360, 10]))"
      ]
     },
     "execution_count": 20,
     "metadata": {},
     "output_type": "execute_result"
    }
   ],
   "source": [
    "type(predictions_tf), predictions_tf.shape"
   ]
  },
  {
   "cell_type": "markdown",
   "metadata": {},
   "source": [
    "The raw output of the model is a tensor of shape `(360, 10)`. This means that we have 360 samples, and for each sample we have 10 values. Each of these values represents the probability that the sample belongs to a given class. This means that we have 10 probabilities for each sample, and the sum of these probabilities is 1. We can confirm this by summing the probabilities for each sample:"
   ]
  },
  {
   "cell_type": "code",
   "execution_count": 21,
   "metadata": {},
   "outputs": [
    {
     "data": {
      "text/plain": [
       "<tf.Tensor: shape=(5,), dtype=float32, numpy=\n",
       "array([1.        , 1.0000001 , 0.99999994, 0.9999999 , 1.0000001 ],\n",
       "      dtype=float32)>"
      ]
     },
     "execution_count": 21,
     "metadata": {},
     "output_type": "execute_result"
    }
   ],
   "source": [
    "import tensorflow as tf\n",
    "\n",
    "tf.reduce_sum(predictions_tf, axis=1)[:5]"
   ]
  },
  {
   "cell_type": "markdown",
   "metadata": {
    "collapsed": false
   },
   "source": [
    "...okay, there might be a small rounding error here and there. This is to do with how floating point numbers are represented in computers, and it's not something we need to worry about for now."
   ]
  },
  {
   "cell_type": "markdown",
   "metadata": {},
   "source": [
    "We can also extract the label with the highest probability using the tensorflow API:"
   ]
  },
  {
   "cell_type": "code",
   "execution_count": 22,
   "metadata": {},
   "outputs": [
    {
     "data": {
      "text/plain": [
       "<tf.Tensor: shape=(5,), dtype=int64, numpy=array([6, 9, 3, 7, 2], dtype=int64)>"
      ]
     },
     "execution_count": 22,
     "metadata": {},
     "output_type": "execute_result"
    }
   ],
   "source": [
    "predicted_labels_tf = tf.argmax(predictions_tf, axis=1)\n",
    "predicted_labels_tf[:5]"
   ]
  },
  {
   "cell_type": "markdown",
   "metadata": {
    "collapsed": false
   },
   "source": [
    "One helpful aspect of this approach is that we don't just get the prediction, but also a sense of how confident the model is in its prediction. To see this in practice, let's take a look at some of the predictions the model is highly confident about (i.e. a lot of the probability mass is on one class):"
   ]
  },
  {
   "cell_type": "code",
   "execution_count": 23,
   "metadata": {
    "collapsed": false
   },
   "outputs": [
    {
     "data": {
      "image/png": "[encoded data removed]",
      "text/plain": [
       "<Figure size 600x600 with 9 Axes>"
      ]
     },
     "metadata": {},
     "output_type": "display_data"
    }
   ],
   "source": [
    "# Get the values corresponding to the predicted labels for each sample\n",
    "predicted_values_tf = tf.reduce_max(predictions_tf, axis=1)\n",
    "\n",
    "# Get the indices of the samples with the highest predicted values\n",
    "most_confident_indices_tf = tf.argsort(predicted_values_tf, direction='DESCENDING').numpy()[:9]\n",
    "\n",
    "# Get the 9 most confident samples\n",
    "most_confident_samples_tf = X_test[most_confident_indices_tf]\n",
    "\n",
    "# Get the true labels for the 9 most confident samples\n",
    "most_confident_labels_tf = np.argmax(y_test[most_confident_indices_tf], axis=1)\n",
    "\n",
    "# Plot the 9 most confident samples\n",
    "fig, axes = plt.subplots(3, 3, figsize=(6, 6))\n",
    "\n",
    "for i, ax in enumerate(axes.flat):\n",
    "    ax.imshow(most_confident_samples_tf[i].reshape(8, 8), cmap=plt.cm.gray_r, interpolation='nearest')\n",
    "    ax.set_title(f\"{most_confident_labels_tf[i]}\")\n",
    "\n",
    "    # Removing axis labels\n",
    "    ax.set_xticks([])\n",
    "    ax.set_yticks([])\n",
    "    \n",
    "plt.show()"
   ]
  },
  {
   "cell_type": "markdown",
   "metadata": {},
   "source": [
    "## Impact of Initialization\n",
    "\n",
    "Let's study the impact of a bad initialization when training\n",
    "a deep feed forward network.\n",
    "\n",
    "By default, Keras dense layers use the \"Glorot Uniform\" initialization\n",
    "strategy to initialize the weight matrices:\n",
    "\n",
    "- each weight coefficient is randomly sampled from [-scale, scale]\n",
    "- scale is proportional to $\\frac{1}{\\sqrt{n_{in} + n_{out}}}$\n",
    "\n",
    "This strategy is known to work well to initialize deep neural networks\n",
    "with \"tanh\" or \"relu\" activation functions and then trained with\n",
    "standard SGD.\n",
    "\n",
    "To assess the impact of initialization let us plug an alternative init\n",
    "scheme into a 2 hidden layers networks with \"tanh\" activations.\n",
    "For the sake of the example let's use normal distributed weights\n",
    "with a manually adjustable scale (standard deviation) and see the\n",
    "impact the scale value:"
   ]
  },
  {
   "cell_type": "code",
   "execution_count": 24,
   "metadata": {},
   "outputs": [],
   "source": [
    "from tensorflow.keras import initializers\n",
    "from tensorflow.keras import optimizers\n",
    "\n",
    "input_dim = 64\n",
    "hidden_dim = 64\n",
    "output_dim = 10\n",
    "\n",
    "normal_init = initializers.TruncatedNormal(stddev=0.01, seed=42)\n",
    "\n",
    "model = Sequential()\n",
    "model.add(Dense(hidden_dim, input_dim=input_dim, activation=\"tanh\",\n",
    "                kernel_initializer=normal_init))\n",
    "model.add(Dense(hidden_dim, activation=\"tanh\",\n",
    "                kernel_initializer=normal_init))\n",
    "model.add(Dense(output_dim, activation=\"softmax\",\n",
    "                kernel_initializer=normal_init))\n",
    "\n",
    "model.compile(optimizer=optimizers.SGD(learning_rate=0.1),\n",
    "              loss='categorical_crossentropy', metrics=['accuracy'])"
   ]
  },
  {
   "cell_type": "code",
   "execution_count": 25,
   "metadata": {},
   "outputs": [
    {
     "data": {
      "text/plain": [
       "[<keras.layers.core.dense.Dense at 0x2db4197bc10>,\n",
       " <keras.layers.core.dense.Dense at 0x2db31e8e460>,\n",
       " <keras.layers.core.dense.Dense at 0x2db3ef75af0>]"
      ]
     },
     "execution_count": 25,
     "metadata": {},
     "output_type": "execute_result"
    }
   ],
   "source": [
    "model.layers"
   ]
  },
  {
   "cell_type": "markdown",
   "metadata": {},
   "source": [
    "Let's have a look at the parameters of the first layer after initialization but before any training has happened:"
   ]
  },
  {
   "cell_type": "code",
   "execution_count": 26,
   "metadata": {},
   "outputs": [
    {
     "data": {
      "text/plain": [
       "[<tf.Variable 'dense_31/kernel:0' shape=(64, 64) dtype=float32, numpy=\n",
       " array([[ 0.00015817, -0.01590087,  0.00103594, ...,  0.00962818,\n",
       "          0.00624957,  0.00994726],\n",
       "        [ 0.0081879 ,  0.00756818, -0.00668142, ...,  0.01084459,\n",
       "         -0.00317478, -0.00549116],\n",
       "        [-0.00086618, -0.00287623,  0.00391693, ...,  0.00064558,\n",
       "         -0.00420471,  0.00174566],\n",
       "        ...,\n",
       "        [-0.0029006 , -0.0091218 ,  0.00804327, ..., -0.01407086,\n",
       "          0.00952832, -0.01348555],\n",
       "        [ 0.00375078,  0.00967842,  0.00098119, ..., -0.00413454,\n",
       "          0.01695471,  0.00025196],\n",
       "        [ 0.00459809,  0.01223094, -0.00213172, ...,  0.01246831,\n",
       "         -0.00714749, -0.00868595]], dtype=float32)>,\n",
       " <tf.Variable 'dense_31/bias:0' shape=(64,) dtype=float32, numpy=\n",
       " array([0., 0., 0., 0., 0., 0., 0., 0., 0., 0., 0., 0., 0., 0., 0., 0., 0.,\n",
       "        0., 0., 0., 0., 0., 0., 0., 0., 0., 0., 0., 0., 0., 0., 0., 0., 0.,\n",
       "        0., 0., 0., 0., 0., 0., 0., 0., 0., 0., 0., 0., 0., 0., 0., 0., 0.,\n",
       "        0., 0., 0., 0., 0., 0., 0., 0., 0., 0., 0., 0., 0.], dtype=float32)>]"
      ]
     },
     "execution_count": 26,
     "metadata": {},
     "output_type": "execute_result"
    }
   ],
   "source": [
    "model.layers[0].weights"
   ]
  },
  {
   "cell_type": "code",
   "execution_count": 27,
   "metadata": {},
   "outputs": [
    {
     "data": {
      "text/plain": [
       "array([[ 0.00015817, -0.01590087,  0.00103594, ...,  0.00962818,\n",
       "         0.00624957,  0.00994726],\n",
       "       [ 0.0081879 ,  0.00756818, -0.00668142, ...,  0.01084459,\n",
       "        -0.00317478, -0.00549116],\n",
       "       [-0.00086618, -0.00287623,  0.00391693, ...,  0.00064558,\n",
       "        -0.00420471,  0.00174566],\n",
       "       ...,\n",
       "       [-0.0029006 , -0.0091218 ,  0.00804327, ..., -0.01407086,\n",
       "         0.00952832, -0.01348555],\n",
       "       [ 0.00375078,  0.00967842,  0.00098119, ..., -0.00413454,\n",
       "         0.01695471,  0.00025196],\n",
       "       [ 0.00459809,  0.01223094, -0.00213172, ...,  0.01246831,\n",
       "        -0.00714749, -0.00868595]], dtype=float32)"
      ]
     },
     "execution_count": 27,
     "metadata": {},
     "output_type": "execute_result"
    }
   ],
   "source": [
    "w = model.layers[0].weights[0].numpy()\n",
    "w"
   ]
  },
  {
   "cell_type": "code",
   "execution_count": 28,
   "metadata": {},
   "outputs": [
    {
     "data": {
      "text/plain": [
       "0.008835949"
      ]
     },
     "execution_count": 28,
     "metadata": {},
     "output_type": "execute_result"
    }
   ],
   "source": [
    "w.std()"
   ]
  },
  {
   "cell_type": "code",
   "execution_count": 29,
   "metadata": {},
   "outputs": [
    {
     "data": {
      "text/plain": [
       "array([0., 0., 0., 0., 0., 0., 0., 0., 0., 0., 0., 0., 0., 0., 0., 0., 0.,\n",
       "       0., 0., 0., 0., 0., 0., 0., 0., 0., 0., 0., 0., 0., 0., 0., 0., 0.,\n",
       "       0., 0., 0., 0., 0., 0., 0., 0., 0., 0., 0., 0., 0., 0., 0., 0., 0.,\n",
       "       0., 0., 0., 0., 0., 0., 0., 0., 0., 0., 0., 0., 0.], dtype=float32)"
      ]
     },
     "execution_count": 29,
     "metadata": {},
     "output_type": "execute_result"
    }
   ],
   "source": [
    "b = model.layers[0].weights[1].numpy()\n",
    "b"
   ]
  },
  {
   "cell_type": "code",
   "execution_count": 30,
   "metadata": {},
   "outputs": [
    {
     "name": "stdout",
     "output_type": "stream",
     "text": [
      "Epoch 1/15\n",
      "45/45 [==============================] - 1s 2ms/step - loss: 2.2864 - accuracy: 0.1872\n",
      "Epoch 2/15\n",
      "45/45 [==============================] - 0s 1ms/step - loss: 1.7470 - accuracy: 0.4676\n",
      "Epoch 3/15\n",
      "45/45 [==============================] - 0s 1ms/step - loss: 0.9689 - accuracy: 0.7376\n",
      "Epoch 4/15\n",
      "45/45 [==============================] - 0s 1ms/step - loss: 0.5066 - accuracy: 0.8803\n",
      "Epoch 5/15\n",
      "45/45 [==============================] - 0s 1ms/step - loss: 0.3206 - accuracy: 0.9165\n",
      "Epoch 6/15\n",
      "45/45 [==============================] - 0s 1ms/step - loss: 0.2028 - accuracy: 0.9555\n",
      "Epoch 7/15\n",
      "45/45 [==============================] - 0s 1ms/step - loss: 0.1758 - accuracy: 0.9555\n",
      "Epoch 8/15\n",
      "45/45 [==============================] - 0s 1ms/step - loss: 0.1283 - accuracy: 0.9729\n",
      "Epoch 9/15\n",
      "45/45 [==============================] - 0s 1ms/step - loss: 0.1039 - accuracy: 0.9763\n",
      "Epoch 10/15\n",
      "45/45 [==============================] - 0s 2ms/step - loss: 0.0743 - accuracy: 0.9861\n",
      "Epoch 11/15\n",
      "45/45 [==============================] - 0s 3ms/step - loss: 0.0606 - accuracy: 0.9882\n",
      "Epoch 12/15\n",
      "45/45 [==============================] - 0s 1ms/step - loss: 0.0560 - accuracy: 0.9896\n",
      "Epoch 13/15\n",
      "45/45 [==============================] - 0s 1ms/step - loss: 0.0421 - accuracy: 0.9903\n",
      "Epoch 14/15\n",
      "45/45 [==============================] - 0s 2ms/step - loss: 0.0464 - accuracy: 0.9930\n",
      "Epoch 15/15\n",
      "45/45 [==============================] - 0s 1ms/step - loss: 0.0282 - accuracy: 0.9972\n"
     ]
    },
    {
     "data": {
      "image/png": "[encoded data removed]",
      "text/plain": [
       "<Figure size 1200x400 with 1 Axes>"
      ]
     },
     "metadata": {},
     "output_type": "display_data"
    }
   ],
   "source": [
    "history = model.fit(X_train, y_train, epochs=15, batch_size=32)\n",
    "\n",
    "plt.figure(figsize=(12, 4))\n",
    "plt.plot(history.history['loss'], label=\"Truncated Normal init\")\n",
    "plt.legend();"
   ]
  },
  {
   "cell_type": "markdown",
   "metadata": {},
   "source": [
    "Once the model has been fit, the weights have been updated and notably the biases are no longer 0:"
   ]
  },
  {
   "cell_type": "code",
   "execution_count": 31,
   "metadata": {},
   "outputs": [
    {
     "data": {
      "text/plain": [
       "[<tf.Variable 'dense_31/kernel:0' shape=(64, 64) dtype=float32, numpy=\n",
       " array([[ 1.58170762e-04, -1.59008689e-02,  1.03594456e-03, ...,\n",
       "          9.62818228e-03,  6.24957308e-03,  9.94726177e-03],\n",
       "        [ 2.49849120e-03, -6.62288908e-03, -9.01701674e-03, ...,\n",
       "         -6.58132834e-03, -1.57453083e-02, -1.47698242e-02],\n",
       "        [ 7.15485075e-03, -6.01262115e-02, -8.08029026e-02, ...,\n",
       "         -2.07275078e-02, -1.00114599e-01,  9.56811532e-02],\n",
       "        ...,\n",
       "        [ 3.07504404e-02, -3.37660895e-03,  1.73425406e-01, ...,\n",
       "         -1.05642475e-01,  4.32153642e-02, -1.59560502e-01],\n",
       "        [ 4.36611027e-02, -2.44242549e-02,  1.03184283e-01, ...,\n",
       "         -5.71612753e-02, -1.82354487e-02, -7.88047761e-02],\n",
       "        [ 3.59062441e-02, -2.27200380e-03,  3.20304744e-02, ...,\n",
       "          5.35623692e-02,  9.91806574e-03, -3.70067954e-02]], dtype=float32)>,\n",
       " <tf.Variable 'dense_31/bias:0' shape=(64,) dtype=float32, numpy=\n",
       " array([ 1.0619081e-04, -1.3124276e-03,  1.4074050e-03, -5.6338510e-03,\n",
       "        -6.2848357e-03, -2.5153946e-05, -5.2867236e-04, -1.4982090e-04,\n",
       "         2.2081526e-04, -8.5659366e-04,  3.2479846e-04,  6.2376796e-03,\n",
       "         2.9381823e-03,  8.7086292e-04, -9.9040149e-04, -8.1255450e-04,\n",
       "         4.6360148e-03,  1.3661670e-03, -2.6098832e-03, -1.4421225e-03,\n",
       "         1.7433738e-03, -1.7304903e-04,  2.3452935e-03,  1.9340591e-03,\n",
       "         5.6160060e-03,  1.5903664e-04, -3.8573327e-03,  8.5718872e-04,\n",
       "         3.7306419e-04, -2.5310928e-03,  5.3924411e-03,  4.2392020e-04,\n",
       "         2.3619812e-04,  1.1207395e-03,  2.1244457e-03, -5.4677122e-04,\n",
       "         1.6618225e-04, -6.6547206e-04, -2.7032369e-03, -4.2199844e-04,\n",
       "         9.6881704e-04,  4.7124061e-04,  5.7938701e-04,  2.5995163e-04,\n",
       "         6.3733794e-05, -5.5594306e-04,  1.7138657e-03, -2.1839351e-03,\n",
       "         4.1675926e-04,  1.8983204e-03, -3.7149445e-03, -2.6372750e-03,\n",
       "        -5.4290951e-03, -3.9421255e-03, -1.9704818e-03, -2.6436211e-03,\n",
       "         1.0025353e-03,  1.1889684e-03,  1.2311166e-03,  9.4270457e-05,\n",
       "         9.5172733e-04,  1.2013043e-03, -4.0158718e-03,  1.6885565e-03],\n",
       "       dtype=float32)>]"
      ]
     },
     "execution_count": 31,
     "metadata": {},
     "output_type": "execute_result"
    }
   ],
   "source": [
    "model.layers[0].weights"
   ]
  },
  {
   "cell_type": "markdown",
   "metadata": {},
   "source": [
    "#### Questions:\n",
    "\n",
    "- Try the following initialization schemes and see whether\n",
    "  the SGD algorithm can successfully train the network or\n",
    "  not:\n",
    "  \n",
    "  - a very small e.g. `stddev=1e-3`\n",
    "  - a larger scale e.g. `stddev=1` or `10`\n",
    "  - initialize all weights to 0 (constant initialization)\n",
    "  \n",
    "- What do you observe? Can you find an explanation for those\n",
    "  outcomes?\n",
    "\n",
    "- Are more advanced solvers such as SGD with momentum or Adam able\n",
    "  to deal better with such bad initializations?"
   ]
  },
  {
   "cell_type": "code",
   "execution_count": 32,
   "metadata": {},
   "outputs": [
    {
     "name": "stdout",
     "output_type": "stream",
     "text": [
      "STDDEV = 0.001\n",
      "Model: \"sequential_11\"\n",
      "_________________________________________________________________\n",
      " Layer (type)                Output Shape              Param #   \n",
      "=================================================================\n",
      " dense_34 (Dense)            (None, 64)                4160      \n",
      "                                                                 \n",
      " dense_35 (Dense)            (None, 64)                4160      \n",
      "                                                                 \n",
      " dense_36 (Dense)            (None, 10)                650       \n",
      "                                                                 \n",
      "=================================================================\n",
      "Total params: 8,970\n",
      "Trainable params: 8,970\n",
      "Non-trainable params: 0\n",
      "_________________________________________________________________\n",
      "Epoch 1/15\n",
      "45/45 [==============================] - 1s 1ms/step - loss: 2.3037 - accuracy: 0.0953\n",
      "Epoch 2/15\n",
      "45/45 [==============================] - 0s 2ms/step - loss: 2.3032 - accuracy: 0.0967\n",
      "Epoch 3/15\n",
      "45/45 [==============================] - 0s 2ms/step - loss: 2.3031 - accuracy: 0.1072\n",
      "Epoch 4/15\n",
      "45/45 [==============================] - 0s 1ms/step - loss: 2.3032 - accuracy: 0.1051\n",
      "Epoch 5/15\n",
      "45/45 [==============================] - 0s 1ms/step - loss: 2.3032 - accuracy: 0.1072\n",
      "Epoch 6/15\n",
      "45/45 [==============================] - 0s 1ms/step - loss: 2.3032 - accuracy: 0.1072\n",
      "Epoch 7/15\n",
      "45/45 [==============================] - 0s 1ms/step - loss: 2.3032 - accuracy: 0.1072\n",
      "Epoch 8/15\n",
      "45/45 [==============================] - 0s 1ms/step - loss: 2.3031 - accuracy: 0.1044\n",
      "Epoch 9/15\n",
      "45/45 [==============================] - 0s 1ms/step - loss: 2.3017 - accuracy: 0.1072\n",
      "Epoch 10/15\n",
      "45/45 [==============================] - 0s 1ms/step - loss: 2.1232 - accuracy: 0.1962\n",
      "Epoch 11/15\n",
      "45/45 [==============================] - 0s 1ms/step - loss: 1.7961 - accuracy: 0.2248\n",
      "Epoch 12/15\n",
      "45/45 [==============================] - 0s 1ms/step - loss: 1.7109 - accuracy: 0.2832\n",
      "Epoch 13/15\n",
      "45/45 [==============================] - 0s 1ms/step - loss: 1.4721 - accuracy: 0.3424\n",
      "Epoch 14/15\n",
      "45/45 [==============================] - 0s 1ms/step - loss: 1.3120 - accuracy: 0.4621\n",
      "Epoch 15/15\n",
      "45/45 [==============================] - 0s 1ms/step - loss: 0.9675 - accuracy: 0.6173\n",
      "STDDEV = 1\n",
      "Model: \"sequential_12\"\n",
      "_________________________________________________________________\n",
      " Layer (type)                Output Shape              Param #   \n",
      "=================================================================\n",
      " dense_37 (Dense)            (None, 64)                4160      \n",
      "                                                                 \n",
      " dense_38 (Dense)            (None, 64)                4160      \n",
      "                                                                 \n",
      " dense_39 (Dense)            (None, 10)                650       \n",
      "                                                                 \n",
      "=================================================================\n",
      "Total params: 8,970\n",
      "Trainable params: 8,970\n",
      "Non-trainable params: 0\n",
      "_________________________________________________________________\n",
      "Epoch 1/15\n",
      "45/45 [==============================] - 1s 1ms/step - loss: 3.7750 - accuracy: 0.2867\n",
      "Epoch 2/15\n",
      "45/45 [==============================] - 0s 1ms/step - loss: 1.7642 - accuracy: 0.4990\n",
      "Epoch 3/15\n",
      "45/45 [==============================] - 0s 1ms/step - loss: 1.3671 - accuracy: 0.5957\n",
      "Epoch 4/15\n",
      "45/45 [==============================] - 0s 1ms/step - loss: 1.1628 - accuracy: 0.6284\n",
      "Epoch 5/15\n",
      "45/45 [==============================] - 0s 1ms/step - loss: 1.0321 - accuracy: 0.6688\n",
      "Epoch 6/15\n",
      "45/45 [==============================] - 0s 1ms/step - loss: 0.9468 - accuracy: 0.7042\n",
      "Epoch 7/15\n",
      "45/45 [==============================] - 0s 1ms/step - loss: 0.7970 - accuracy: 0.7481\n",
      "Epoch 8/15\n",
      "45/45 [==============================] - 0s 1ms/step - loss: 0.7923 - accuracy: 0.7599\n",
      "Epoch 9/15\n",
      "45/45 [==============================] - 0s 1ms/step - loss: 0.7084 - accuracy: 0.7787\n",
      "Epoch 10/15\n",
      "45/45 [==============================] - 0s 1ms/step - loss: 0.6282 - accuracy: 0.7954\n",
      "Epoch 11/15\n",
      "45/45 [==============================] - 0s 2ms/step - loss: 0.5987 - accuracy: 0.8065\n",
      "Epoch 12/15\n",
      "45/45 [==============================] - 0s 2ms/step - loss: 0.6110 - accuracy: 0.7996\n",
      "Epoch 13/15\n",
      "45/45 [==============================] - 0s 2ms/step - loss: 0.6204 - accuracy: 0.8024\n",
      "Epoch 14/15\n",
      "45/45 [==============================] - 0s 1ms/step - loss: 0.6363 - accuracy: 0.8177\n",
      "Epoch 15/15\n",
      "45/45 [==============================] - 0s 1ms/step - loss: 0.5241 - accuracy: 0.8365\n",
      "STDDEV = 10\n",
      "Model: \"sequential_13\"\n",
      "_________________________________________________________________\n",
      " Layer (type)                Output Shape              Param #   \n",
      "=================================================================\n",
      " dense_40 (Dense)            (None, 64)                4160      \n",
      "                                                                 \n",
      " dense_41 (Dense)            (None, 64)                4160      \n",
      "                                                                 \n",
      " dense_42 (Dense)            (None, 10)                650       \n",
      "                                                                 \n",
      "=================================================================\n",
      "Total params: 8,970\n",
      "Trainable params: 8,970\n",
      "Non-trainable params: 0\n",
      "_________________________________________________________________\n",
      "Epoch 1/15\n",
      "45/45 [==============================] - 1s 1ms/step - loss: 95.9818 - accuracy: 0.1009\n",
      "Epoch 2/15\n",
      "45/45 [==============================] - 0s 1ms/step - loss: 78.8353 - accuracy: 0.0793\n",
      "Epoch 3/15\n",
      "45/45 [==============================] - 0s 1ms/step - loss: 53.2565 - accuracy: 0.1357\n",
      "Epoch 4/15\n",
      "45/45 [==============================] - 0s 1ms/step - loss: 43.5642 - accuracy: 0.1698\n",
      "Epoch 5/15\n",
      "45/45 [==============================] - 0s 2ms/step - loss: 31.4018 - accuracy: 0.1691\n",
      "Epoch 6/15\n",
      "45/45 [==============================] - 0s 1ms/step - loss: 26.3130 - accuracy: 0.1893\n",
      "Epoch 7/15\n",
      "45/45 [==============================] - 0s 2ms/step - loss: 27.7298 - accuracy: 0.1705\n",
      "Epoch 8/15\n",
      "45/45 [==============================] - 0s 1ms/step - loss: 22.4114 - accuracy: 0.1921\n",
      "Epoch 9/15\n",
      "45/45 [==============================] - 0s 1ms/step - loss: 16.4775 - accuracy: 0.2463\n",
      "Epoch 10/15\n",
      "45/45 [==============================] - 0s 1ms/step - loss: 15.0133 - accuracy: 0.2436\n",
      "Epoch 11/15\n",
      "45/45 [==============================] - 0s 1ms/step - loss: 14.2272 - accuracy: 0.2129\n",
      "Epoch 12/15\n",
      "45/45 [==============================] - 0s 1ms/step - loss: 14.0074 - accuracy: 0.1747\n",
      "Epoch 13/15\n",
      "45/45 [==============================] - 0s 1ms/step - loss: 13.1970 - accuracy: 0.1656\n",
      "Epoch 14/15\n",
      "45/45 [==============================] - 0s 2ms/step - loss: 12.3680 - accuracy: 0.2122\n",
      "Epoch 15/15\n",
      "45/45 [==============================] - 0s 1ms/step - loss: 11.7653 - accuracy: 0.2220\n"
     ]
    }
   ],
   "source": [
    "# Your code here\n",
    "from tensorflow.keras import initializers\n",
    "from tensorflow.keras import optimizers\n",
    "\n",
    "input_dim = 64\n",
    "hidden_dim = 64\n",
    "output_dim = 10\n",
    "\n",
    "# Try VERY SMALL and LARGE stddev values\n",
    "stddevs = [0.001, 1, 10]\n",
    "\n",
    "for std_dev in stddevs:\n",
    "    print(f'STDDEV = {std_dev}')\n",
    "    normal_init = initializers.TruncatedNormal(stddev=std_dev, seed=42)\n",
    "    \n",
    "    model = Sequential()\n",
    "    model.add(Dense(hidden_dim, input_dim=input_dim, activation=\"tanh\",\n",
    "                    kernel_initializer=normal_init))\n",
    "    model.add(Dense(hidden_dim, activation=\"tanh\",\n",
    "                    kernel_initializer=normal_init))\n",
    "    model.add(Dense(output_dim, activation=\"softmax\",\n",
    "                    kernel_initializer=normal_init))\n",
    "\n",
    "    model.compile(optimizer=optimizers.SGD(learning_rate=0.1),\n",
    "                loss='categorical_crossentropy', metrics=['accuracy'])\n",
    "    \n",
    "    model.summary()\n",
    "    \n",
    "    history = model.fit(X_train, y_train, epochs=15, batch_size=32)"
   ]
  },
  {
   "cell_type": "code",
   "execution_count": 33,
   "metadata": {},
   "outputs": [
    {
     "name": "stdout",
     "output_type": "stream",
     "text": [
      "STDDEV = 0.001\n",
      "Model: \"sequential_14\"\n",
      "_________________________________________________________________\n",
      " Layer (type)                Output Shape              Param #   \n",
      "=================================================================\n",
      " dense_43 (Dense)            (None, 64)                4160      \n",
      "                                                                 \n",
      " dense_44 (Dense)            (None, 64)                4160      \n",
      "                                                                 \n",
      " dense_45 (Dense)            (None, 10)                650       \n",
      "                                                                 \n",
      "=================================================================\n",
      "Total params: 8,970\n",
      "Trainable params: 8,970\n",
      "Non-trainable params: 0\n",
      "_________________________________________________________________\n",
      "Epoch 1/15\n",
      "45/45 [==============================] - 1s 1ms/step - loss: 2.3087 - accuracy: 0.0814\n",
      "Epoch 2/15\n",
      "45/45 [==============================] - 0s 1ms/step - loss: 2.2358 - accuracy: 0.1232\n",
      "Epoch 3/15\n",
      "45/45 [==============================] - 0s 1ms/step - loss: 1.4576 - accuracy: 0.4294\n",
      "Epoch 4/15\n",
      "45/45 [==============================] - 0s 1ms/step - loss: 1.5102 - accuracy: 0.4231\n",
      "Epoch 5/15\n",
      "45/45 [==============================] - 0s 1ms/step - loss: 1.4800 - accuracy: 0.4628\n",
      "Epoch 6/15\n",
      "45/45 [==============================] - 0s 1ms/step - loss: 1.4420 - accuracy: 0.5080\n",
      "Epoch 7/15\n",
      "45/45 [==============================] - 0s 1ms/step - loss: 1.5397 - accuracy: 0.5059\n",
      "Epoch 8/15\n",
      "45/45 [==============================] - 0s 1ms/step - loss: 1.3999 - accuracy: 0.5101\n",
      "Epoch 9/15\n",
      "45/45 [==============================] - 0s 1ms/step - loss: 1.3108 - accuracy: 0.5762\n",
      "Epoch 10/15\n",
      "45/45 [==============================] - 0s 1ms/step - loss: 1.5680 - accuracy: 0.4676\n",
      "Epoch 11/15\n",
      "45/45 [==============================] - 0s 1ms/step - loss: 1.8224 - accuracy: 0.3772\n",
      "Epoch 12/15\n",
      "45/45 [==============================] - 0s 1ms/step - loss: 1.8597 - accuracy: 0.3939\n",
      "Epoch 13/15\n",
      "45/45 [==============================] - 0s 1ms/step - loss: 2.3916 - accuracy: 0.2401\n",
      "Epoch 14/15\n",
      "45/45 [==============================] - 0s 1ms/step - loss: 2.2964 - accuracy: 0.2547\n",
      "Epoch 15/15\n",
      "45/45 [==============================] - 0s 1ms/step - loss: 2.2793 - accuracy: 0.2178\n",
      "STDDEV = 1\n",
      "Model: \"sequential_15\"\n",
      "_________________________________________________________________\n",
      " Layer (type)                Output Shape              Param #   \n",
      "=================================================================\n",
      " dense_46 (Dense)            (None, 64)                4160      \n",
      "                                                                 \n",
      " dense_47 (Dense)            (None, 64)                4160      \n",
      "                                                                 \n",
      " dense_48 (Dense)            (None, 10)                650       \n",
      "                                                                 \n",
      "=================================================================\n",
      "Total params: 8,970\n",
      "Trainable params: 8,970\n",
      "Non-trainable params: 0\n",
      "_________________________________________________________________\n",
      "Epoch 1/15\n",
      "45/45 [==============================] - 1s 1ms/step - loss: 4.3032 - accuracy: 0.1552\n",
      "Epoch 2/15\n",
      "45/45 [==============================] - 0s 1ms/step - loss: 2.7665 - accuracy: 0.1503\n",
      "Epoch 3/15\n",
      "45/45 [==============================] - 0s 1ms/step - loss: 2.5524 - accuracy: 0.1719\n",
      "Epoch 4/15\n",
      "45/45 [==============================] - 0s 1ms/step - loss: 2.3894 - accuracy: 0.2178\n",
      "Epoch 5/15\n",
      "45/45 [==============================] - 0s 1ms/step - loss: 2.4975 - accuracy: 0.1921\n",
      "Epoch 6/15\n",
      "45/45 [==============================] - 0s 1ms/step - loss: 2.4609 - accuracy: 0.2234\n",
      "Epoch 7/15\n",
      "45/45 [==============================] - 0s 1ms/step - loss: 2.9566 - accuracy: 0.1225\n",
      "Epoch 8/15\n",
      "45/45 [==============================] - 0s 1ms/step - loss: 2.7145 - accuracy: 0.1545\n",
      "Epoch 9/15\n",
      "45/45 [==============================] - 0s 1ms/step - loss: 2.6041 - accuracy: 0.1740\n",
      "Epoch 10/15\n",
      "45/45 [==============================] - 0s 1ms/step - loss: 3.0355 - accuracy: 0.1385\n",
      "Epoch 11/15\n",
      "45/45 [==============================] - 0s 1ms/step - loss: 2.8867 - accuracy: 0.1531\n",
      "Epoch 12/15\n",
      "45/45 [==============================] - 0s 1ms/step - loss: 3.0800 - accuracy: 0.1058\n",
      "Epoch 13/15\n",
      "45/45 [==============================] - 0s 1ms/step - loss: 2.6561 - accuracy: 0.1120\n",
      "Epoch 14/15\n",
      "45/45 [==============================] - 0s 1ms/step - loss: 2.6819 - accuracy: 0.1336\n",
      "Epoch 15/15\n",
      "45/45 [==============================] - 0s 1ms/step - loss: 2.5863 - accuracy: 0.1587\n",
      "STDDEV = 10\n",
      "Model: \"sequential_16\"\n",
      "_________________________________________________________________\n",
      " Layer (type)                Output Shape              Param #   \n",
      "=================================================================\n",
      " dense_49 (Dense)            (None, 64)                4160      \n",
      "                                                                 \n",
      " dense_50 (Dense)            (None, 64)                4160      \n",
      "                                                                 \n",
      " dense_51 (Dense)            (None, 10)                650       \n",
      "                                                                 \n",
      "=================================================================\n",
      "Total params: 8,970\n",
      "Trainable params: 8,970\n",
      "Non-trainable params: 0\n",
      "_________________________________________________________________\n",
      "Epoch 1/15\n",
      "45/45 [==============================] - 1s 2ms/step - loss: 61.6999 - accuracy: 0.1427\n",
      "Epoch 2/15\n",
      "45/45 [==============================] - 0s 2ms/step - loss: 24.3372 - accuracy: 0.1608\n",
      "Epoch 3/15\n",
      "45/45 [==============================] - 0s 1ms/step - loss: 5.1945 - accuracy: 0.1127\n",
      "Epoch 4/15\n",
      "45/45 [==============================] - 0s 1ms/step - loss: 3.8885 - accuracy: 0.1086\n",
      "Epoch 5/15\n",
      "45/45 [==============================] - 0s 1ms/step - loss: 3.6986 - accuracy: 0.1093\n",
      "Epoch 6/15\n",
      "45/45 [==============================] - 0s 1ms/step - loss: 3.1442 - accuracy: 0.1155\n",
      "Epoch 7/15\n",
      "45/45 [==============================] - 0s 1ms/step - loss: 3.1199 - accuracy: 0.0967\n",
      "Epoch 8/15\n",
      "45/45 [==============================] - 0s 1ms/step - loss: 3.0785 - accuracy: 0.1009\n",
      "Epoch 9/15\n",
      "45/45 [==============================] - 0s 1ms/step - loss: 3.0004 - accuracy: 0.0974\n",
      "Epoch 10/15\n",
      "45/45 [==============================] - 0s 1ms/step - loss: 3.3937 - accuracy: 0.0967\n",
      "Epoch 11/15\n",
      "45/45 [==============================] - 0s 1ms/step - loss: 2.9584 - accuracy: 0.1065\n",
      "Epoch 12/15\n",
      "45/45 [==============================] - 0s 1ms/step - loss: 3.3825 - accuracy: 0.0995\n",
      "Epoch 13/15\n",
      "45/45 [==============================] - 0s 1ms/step - loss: 3.2800 - accuracy: 0.1030\n",
      "Epoch 14/15\n",
      "45/45 [==============================] - 0s 1ms/step - loss: 3.2237 - accuracy: 0.1086\n",
      "Epoch 15/15\n",
      "45/45 [==============================] - 0s 1ms/step - loss: 3.0299 - accuracy: 0.1044\n"
     ]
    }
   ],
   "source": [
    "# Your code here\n",
    "from tensorflow.keras import initializers\n",
    "from tensorflow.keras import optimizers\n",
    "\n",
    "input_dim = 64\n",
    "hidden_dim = 64\n",
    "output_dim = 10\n",
    "\n",
    "# Try VERY SMALL and LARGE stddev values\n",
    "# + SGD with momentum=0.9\n",
    "stddevs = [0.001, 1, 10]\n",
    "\n",
    "for std_dev in stddevs:\n",
    "    print(f'STDDEV = {std_dev}')\n",
    "    normal_init = initializers.TruncatedNormal(stddev=std_dev, seed=42)\n",
    "    \n",
    "    model = Sequential()\n",
    "    model.add(Dense(hidden_dim, input_dim=input_dim, activation=\"tanh\",\n",
    "                    kernel_initializer=normal_init))\n",
    "    model.add(Dense(hidden_dim, activation=\"tanh\",\n",
    "                    kernel_initializer=normal_init))\n",
    "    model.add(Dense(output_dim, activation=\"softmax\",\n",
    "                    kernel_initializer=normal_init))\n",
    "\n",
    "    model.compile(optimizer=optimizers.SGD(learning_rate=0.1, momentum=0.9),\n",
    "                loss='categorical_crossentropy', metrics=['accuracy'])\n",
    "    \n",
    "    model.summary()\n",
    "    \n",
    "    history = model.fit(X_train, y_train, epochs=15, batch_size=32)"
   ]
  },
  {
   "cell_type": "code",
   "execution_count": 34,
   "metadata": {},
   "outputs": [
    {
     "name": "stdout",
     "output_type": "stream",
     "text": [
      "STDDEV = 0.001\n",
      "Model: \"sequential_17\"\n",
      "_________________________________________________________________\n",
      " Layer (type)                Output Shape              Param #   \n",
      "=================================================================\n",
      " dense_52 (Dense)            (None, 64)                4160      \n",
      "                                                                 \n",
      " dense_53 (Dense)            (None, 64)                4160      \n",
      "                                                                 \n",
      " dense_54 (Dense)            (None, 10)                650       \n",
      "                                                                 \n",
      "=================================================================\n",
      "Total params: 8,970\n",
      "Trainable params: 8,970\n",
      "Non-trainable params: 0\n",
      "_________________________________________________________________\n",
      "Epoch 1/15\n",
      "45/45 [==============================] - 1s 1ms/step - loss: 2.0488 - accuracy: 0.2317\n",
      "Epoch 2/15\n",
      "45/45 [==============================] - 0s 1ms/step - loss: 1.5803 - accuracy: 0.4440\n",
      "Epoch 3/15\n",
      "45/45 [==============================] - 0s 1ms/step - loss: 1.2107 - accuracy: 0.6180\n",
      "Epoch 4/15\n",
      "45/45 [==============================] - 0s 2ms/step - loss: 0.8754 - accuracy: 0.7773\n",
      "Epoch 5/15\n",
      "45/45 [==============================] - 0s 2ms/step - loss: 0.6138 - accuracy: 0.8622\n",
      "Epoch 6/15\n",
      "45/45 [==============================] - 0s 1ms/step - loss: 0.4217 - accuracy: 0.9269\n",
      "Epoch 7/15\n",
      "45/45 [==============================] - 0s 1ms/step - loss: 0.3069 - accuracy: 0.9408\n",
      "Epoch 8/15\n",
      "45/45 [==============================] - 0s 2ms/step - loss: 0.2188 - accuracy: 0.9631\n",
      "Epoch 9/15\n",
      "45/45 [==============================] - 0s 2ms/step - loss: 0.1735 - accuracy: 0.9708\n",
      "Epoch 10/15\n",
      "45/45 [==============================] - 0s 1ms/step - loss: 0.1373 - accuracy: 0.9812\n",
      "Epoch 11/15\n",
      "45/45 [==============================] - 0s 1ms/step - loss: 0.1155 - accuracy: 0.9798\n",
      "Epoch 12/15\n",
      "45/45 [==============================] - 0s 1ms/step - loss: 0.1003 - accuracy: 0.9833\n",
      "Epoch 13/15\n",
      "45/45 [==============================] - 0s 2ms/step - loss: 0.0878 - accuracy: 0.9847\n",
      "Epoch 14/15\n",
      "45/45 [==============================] - 0s 1ms/step - loss: 0.0724 - accuracy: 0.9889\n",
      "Epoch 15/15\n",
      "45/45 [==============================] - 0s 1ms/step - loss: 0.0591 - accuracy: 0.9930\n",
      "STDDEV = 1\n",
      "Model: \"sequential_18\"\n",
      "_________________________________________________________________\n",
      " Layer (type)                Output Shape              Param #   \n",
      "=================================================================\n",
      " dense_55 (Dense)            (None, 64)                4160      \n",
      "                                                                 \n",
      " dense_56 (Dense)            (None, 64)                4160      \n",
      "                                                                 \n",
      " dense_57 (Dense)            (None, 10)                650       \n",
      "                                                                 \n",
      "=================================================================\n",
      "Total params: 8,970\n",
      "Trainable params: 8,970\n",
      "Non-trainable params: 0\n",
      "_________________________________________________________________\n",
      "Epoch 1/15\n",
      "45/45 [==============================] - 1s 2ms/step - loss: 8.0932 - accuracy: 0.1413\n",
      "Epoch 2/15\n",
      "45/45 [==============================] - 0s 2ms/step - loss: 5.3556 - accuracy: 0.2109\n",
      "Epoch 3/15\n",
      "45/45 [==============================] - 0s 3ms/step - loss: 4.0755 - accuracy: 0.2874\n",
      "Epoch 4/15\n",
      "45/45 [==============================] - 0s 2ms/step - loss: 3.3039 - accuracy: 0.3486\n",
      "Epoch 5/15\n",
      "45/45 [==============================] - 0s 2ms/step - loss: 2.7197 - accuracy: 0.4245\n",
      "Epoch 6/15\n",
      "45/45 [==============================] - 0s 2ms/step - loss: 2.2884 - accuracy: 0.4816\n",
      "Epoch 7/15\n",
      "45/45 [==============================] - 0s 2ms/step - loss: 1.9806 - accuracy: 0.5177\n",
      "Epoch 8/15\n",
      "45/45 [==============================] - 0s 1ms/step - loss: 1.7300 - accuracy: 0.5609\n",
      "Epoch 9/15\n",
      "45/45 [==============================] - 0s 2ms/step - loss: 1.5339 - accuracy: 0.5999\n",
      "Epoch 10/15\n",
      "45/45 [==============================] - 0s 1ms/step - loss: 1.3945 - accuracy: 0.6263\n",
      "Epoch 11/15\n",
      "45/45 [==============================] - 0s 1ms/step - loss: 1.2646 - accuracy: 0.6541\n",
      "Epoch 12/15\n",
      "45/45 [==============================] - 0s 2ms/step - loss: 1.1554 - accuracy: 0.6799\n",
      "Epoch 13/15\n",
      "45/45 [==============================] - 0s 1ms/step - loss: 1.0670 - accuracy: 0.7015\n",
      "Epoch 14/15\n",
      "45/45 [==============================] - 0s 1ms/step - loss: 0.9880 - accuracy: 0.7189\n",
      "Epoch 15/15\n",
      "45/45 [==============================] - 0s 1ms/step - loss: 0.9148 - accuracy: 0.7418\n",
      "STDDEV = 10\n",
      "Model: \"sequential_19\"\n",
      "_________________________________________________________________\n",
      " Layer (type)                Output Shape              Param #   \n",
      "=================================================================\n",
      " dense_58 (Dense)            (None, 64)                4160      \n",
      "                                                                 \n",
      " dense_59 (Dense)            (None, 64)                4160      \n",
      "                                                                 \n",
      " dense_60 (Dense)            (None, 10)                650       \n",
      "                                                                 \n",
      "=================================================================\n",
      "Total params: 8,970\n",
      "Trainable params: 8,970\n",
      "Non-trainable params: 0\n",
      "_________________________________________________________________\n",
      "Epoch 1/15\n",
      "45/45 [==============================] - 1s 1ms/step - loss: 103.0147 - accuracy: 0.1148\n",
      "Epoch 2/15\n",
      "45/45 [==============================] - 0s 1ms/step - loss: 98.6250 - accuracy: 0.1232\n",
      "Epoch 3/15\n",
      "45/45 [==============================] - 0s 1ms/step - loss: 95.2107 - accuracy: 0.1225\n",
      "Epoch 4/15\n",
      "45/45 [==============================] - 0s 2ms/step - loss: 92.6077 - accuracy: 0.1287\n",
      "Epoch 5/15\n",
      "45/45 [==============================] - 0s 2ms/step - loss: 89.9039 - accuracy: 0.1392\n",
      "Epoch 6/15\n",
      "45/45 [==============================] - 0s 1ms/step - loss: 87.7342 - accuracy: 0.1364\n",
      "Epoch 7/15\n",
      "45/45 [==============================] - 0s 1ms/step - loss: 85.8720 - accuracy: 0.1378\n",
      "Epoch 8/15\n",
      "45/45 [==============================] - 0s 1ms/step - loss: 83.5893 - accuracy: 0.1392\n",
      "Epoch 9/15\n",
      "45/45 [==============================] - 0s 1ms/step - loss: 81.4985 - accuracy: 0.1441\n",
      "Epoch 10/15\n",
      "45/45 [==============================] - 0s 1ms/step - loss: 79.9383 - accuracy: 0.1496\n",
      "Epoch 11/15\n",
      "45/45 [==============================] - 0s 1ms/step - loss: 78.1335 - accuracy: 0.1482\n",
      "Epoch 12/15\n",
      "45/45 [==============================] - 0s 2ms/step - loss: 76.5963 - accuracy: 0.1531\n",
      "Epoch 13/15\n",
      "45/45 [==============================] - 0s 1ms/step - loss: 74.8650 - accuracy: 0.1531\n",
      "Epoch 14/15\n",
      "45/45 [==============================] - 0s 1ms/step - loss: 73.2542 - accuracy: 0.1580\n",
      "Epoch 15/15\n",
      "45/45 [==============================] - 0s 1ms/step - loss: 71.9299 - accuracy: 0.1587\n"
     ]
    }
   ],
   "source": [
    "# Your code here\n",
    "from tensorflow.keras import initializers\n",
    "from tensorflow.keras import optimizers\n",
    "\n",
    "input_dim = 64\n",
    "hidden_dim = 64\n",
    "output_dim = 10\n",
    "\n",
    "# Try VERY SMALL and LARGE stddev values\n",
    "# + ADAM default\n",
    "stddevs = [0.001, 1, 10]\n",
    "\n",
    "for std_dev in stddevs:\n",
    "    print(f'STDDEV = {std_dev}')\n",
    "    normal_init = initializers.TruncatedNormal(stddev=std_dev, seed=42)\n",
    "    \n",
    "    model = Sequential()\n",
    "    model.add(Dense(hidden_dim, input_dim=input_dim, activation=\"tanh\",\n",
    "                    kernel_initializer=normal_init))\n",
    "    model.add(Dense(hidden_dim, activation=\"tanh\",\n",
    "                    kernel_initializer=normal_init))\n",
    "    model.add(Dense(output_dim, activation=\"softmax\",\n",
    "                    kernel_initializer=normal_init))\n",
    "\n",
    "    model.compile(optimizer=optimizers.Adam(),\n",
    "                loss='categorical_crossentropy', metrics=['accuracy'])\n",
    "    \n",
    "    model.summary()\n",
    "    \n",
    "    history = model.fit(X_train, y_train, epochs=15, batch_size=32)"
   ]
  },
  {
   "cell_type": "markdown",
   "metadata": {},
   "source": [
    "> As we can see from the results of the learning pocess for different values of the STDDEV,\n",
    "it is important to find optimum value since very small and very large values reduce the performance of the model.\n",
    "\n",
    "> Setting SGD with momentum=0.9 made it worse.\n",
    "\n",
    "> ADAM showed much better performance compared to SGD for STDDEV values 0.001 and 1."
   ]
  },
  {
   "cell_type": "code",
   "execution_count": 35,
   "metadata": {},
   "outputs": [
    {
     "name": "stdout",
     "output_type": "stream",
     "text": [
      "[<tf.Variable 'dense_61/kernel:0' shape=(64, 64) dtype=float32, numpy=\n",
      "array([[0., 0., 0., ..., 0., 0., 0.],\n",
      "       [0., 0., 0., ..., 0., 0., 0.],\n",
      "       [0., 0., 0., ..., 0., 0., 0.],\n",
      "       ...,\n",
      "       [0., 0., 0., ..., 0., 0., 0.],\n",
      "       [0., 0., 0., ..., 0., 0., 0.],\n",
      "       [0., 0., 0., ..., 0., 0., 0.]], dtype=float32)>, <tf.Variable 'dense_61/bias:0' shape=(64,) dtype=float32, numpy=\n",
      "array([0., 0., 0., 0., 0., 0., 0., 0., 0., 0., 0., 0., 0., 0., 0., 0., 0.,\n",
      "       0., 0., 0., 0., 0., 0., 0., 0., 0., 0., 0., 0., 0., 0., 0., 0., 0.,\n",
      "       0., 0., 0., 0., 0., 0., 0., 0., 0., 0., 0., 0., 0., 0., 0., 0., 0.,\n",
      "       0., 0., 0., 0., 0., 0., 0., 0., 0., 0., 0., 0., 0.], dtype=float32)>]\n",
      "Epoch 1/15\n",
      "45/45 [==============================] - 1s 1ms/step - loss: 2.3036 - accuracy: 0.0932\n",
      "Epoch 2/15\n",
      "45/45 [==============================] - 0s 2ms/step - loss: 2.3035 - accuracy: 0.1044\n",
      "Epoch 3/15\n",
      "45/45 [==============================] - 0s 2ms/step - loss: 2.3032 - accuracy: 0.1072\n",
      "Epoch 4/15\n",
      "45/45 [==============================] - 0s 1ms/step - loss: 2.3032 - accuracy: 0.1072\n",
      "Epoch 5/15\n",
      "45/45 [==============================] - 0s 1ms/step - loss: 2.3032 - accuracy: 0.1072\n",
      "Epoch 6/15\n",
      "45/45 [==============================] - 0s 1ms/step - loss: 2.3031 - accuracy: 0.1044\n",
      "Epoch 7/15\n",
      "45/45 [==============================] - 0s 1ms/step - loss: 2.3031 - accuracy: 0.1072\n",
      "Epoch 8/15\n",
      "45/45 [==============================] - 0s 1ms/step - loss: 2.3034 - accuracy: 0.1072\n",
      "Epoch 9/15\n",
      "45/45 [==============================] - 0s 1ms/step - loss: 2.3032 - accuracy: 0.1072\n",
      "Epoch 10/15\n",
      "45/45 [==============================] - 0s 1ms/step - loss: 2.3030 - accuracy: 0.1009\n",
      "Epoch 11/15\n",
      "45/45 [==============================] - 0s 1ms/step - loss: 2.3032 - accuracy: 0.1051\n",
      "Epoch 12/15\n",
      "45/45 [==============================] - 0s 1ms/step - loss: 2.3031 - accuracy: 0.1072\n",
      "Epoch 13/15\n",
      "45/45 [==============================] - 0s 1ms/step - loss: 2.3030 - accuracy: 0.1002\n",
      "Epoch 14/15\n",
      "45/45 [==============================] - 0s 1ms/step - loss: 2.3031 - accuracy: 0.1037\n",
      "Epoch 15/15\n",
      "45/45 [==============================] - 0s 1ms/step - loss: 2.3030 - accuracy: 0.1044\n"
     ]
    }
   ],
   "source": [
    "# initialize all weights to 0\n",
    "input_dim = 64\n",
    "hidden_dim = 64\n",
    "output_dim = 10\n",
    "\n",
    "model = Sequential()\n",
    "model.add(Dense(hidden_dim, input_dim=input_dim, activation=\"tanh\",\n",
    "                kernel_initializer='zeros'))\n",
    "model.add(Dense(hidden_dim, activation=\"tanh\",\n",
    "                kernel_initializer='zeros'))\n",
    "model.add(Dense(output_dim, activation=\"softmax\",\n",
    "                kernel_initializer='zeros'))\n",
    "\n",
    "model.compile(optimizer=optimizers.SGD(learning_rate=0.1),\n",
    "            loss='categorical_crossentropy', metrics=['accuracy'])\n",
    "\n",
    "print(model.layers[0].weights)\n",
    "\n",
    "history = model.fit(X_train, y_train, epochs=15, batch_size=32)"
   ]
  },
  {
   "cell_type": "code",
   "execution_count": 36,
   "metadata": {},
   "outputs": [
    {
     "name": "stdout",
     "output_type": "stream",
     "text": [
      "[<tf.Variable 'dense_61/kernel:0' shape=(64, 64) dtype=float32, numpy=\n",
      "array([[0., 0., 0., ..., 0., 0., 0.],\n",
      "       [0., 0., 0., ..., 0., 0., 0.],\n",
      "       [0., 0., 0., ..., 0., 0., 0.],\n",
      "       ...,\n",
      "       [0., 0., 0., ..., 0., 0., 0.],\n",
      "       [0., 0., 0., ..., 0., 0., 0.],\n",
      "       [0., 0., 0., ..., 0., 0., 0.]], dtype=float32)>, <tf.Variable 'dense_61/bias:0' shape=(64,) dtype=float32, numpy=\n",
      "array([0., 0., 0., 0., 0., 0., 0., 0., 0., 0., 0., 0., 0., 0., 0., 0., 0.,\n",
      "       0., 0., 0., 0., 0., 0., 0., 0., 0., 0., 0., 0., 0., 0., 0., 0., 0.,\n",
      "       0., 0., 0., 0., 0., 0., 0., 0., 0., 0., 0., 0., 0., 0., 0., 0., 0.,\n",
      "       0., 0., 0., 0., 0., 0., 0., 0., 0., 0., 0., 0., 0.], dtype=float32)>]\n"
     ]
    }
   ],
   "source": [
    "print(model.layers[0].weights)"
   ]
  },
  {
   "cell_type": "markdown",
   "metadata": {},
   "source": [
    "> Initializing all weights to 0 makes model not trainable at all. Weights remain set to zeros after learning."
   ]
  }
 ],
 "metadata": {
  "file_extension": ".py",
  "kernelspec": {
   "display_name": "dsi_participant",
   "language": "python",
   "name": "python3"
  },
  "language_info": {
   "codemirror_mode": {
    "name": "ipython",
    "version": 3
   },
   "file_extension": ".py",
   "mimetype": "text/x-python",
   "name": "python",
   "nbconvert_exporter": "python",
   "pygments_lexer": "ipython3",
   "version": "3.9.15"
  },
  "mimetype": "text/x-python",
  "name": "python",
  "npconvert_exporter": "python",
  "pygments_lexer": "ipython3",
  "toc": {
   "base_numbering": 1,
   "nav_menu": {},
   "number_sections": true,
   "sideBar": true,
   "skip_h1_title": false,
   "title_cell": "Table of Contents",
   "title_sidebar": "Contents",
   "toc_cell": false,
   "toc_position": {},
   "toc_section_display": true,
   "toc_window_display": false
  },
  "version": 3
 },
 "nbformat": 4,
 "nbformat_minor": 4
}
